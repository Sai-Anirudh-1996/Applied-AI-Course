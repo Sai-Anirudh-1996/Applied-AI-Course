{
 "cells": [
  {
   "cell_type": "code",
   "execution_count": 2,
   "metadata": {
    "colab": {
     "base_uri": "https://localhost:8080/",
     "height": 527
    },
    "colab_type": "code",
    "id": "H9EU0e8yzFOm",
    "outputId": "8a2f0201-55bc-4e98-ab30-00e996552d8b"
   },
   "outputs": [
    {
     "name": "stdout",
     "output_type": "stream",
     "text": [
      "x_train shape: (60000, 28, 28, 1)\n",
      "60000 train samples\n",
      "10000 test samples\n",
      "Train on 60000 samples, validate on 10000 samples\n",
      "Epoch 1/12\n",
      "60000/60000 [==============================] - 6s 94us/step - loss: 0.2659 - acc: 0.9179 - val_loss: 0.0594 - val_acc: 0.9811\n",
      "Epoch 2/12\n",
      "60000/60000 [==============================] - 5s 83us/step - loss: 0.0866 - acc: 0.9738 - val_loss: 0.0406 - val_acc: 0.9853\n",
      "Epoch 3/12\n",
      "60000/60000 [==============================] - 5s 86us/step - loss: 0.0674 - acc: 0.9797 - val_loss: 0.0362 - val_acc: 0.9878\n",
      "Epoch 4/12\n",
      "60000/60000 [==============================] - 5s 83us/step - loss: 0.0559 - acc: 0.9828 - val_loss: 0.0308 - val_acc: 0.9898\n",
      "Epoch 5/12\n",
      "60000/60000 [==============================] - 5s 85us/step - loss: 0.0483 - acc: 0.9856 - val_loss: 0.0303 - val_acc: 0.9890\n",
      "Epoch 6/12\n",
      "60000/60000 [==============================] - 5s 85us/step - loss: 0.0398 - acc: 0.9881 - val_loss: 0.0290 - val_acc: 0.9901\n",
      "Epoch 7/12\n",
      "60000/60000 [==============================] - 5s 86us/step - loss: 0.0380 - acc: 0.9882 - val_loss: 0.0291 - val_acc: 0.9907\n",
      "Epoch 8/12\n",
      "60000/60000 [==============================] - 5s 85us/step - loss: 0.0346 - acc: 0.9893 - val_loss: 0.0289 - val_acc: 0.9913\n",
      "Epoch 9/12\n",
      "60000/60000 [==============================] - 5s 86us/step - loss: 0.0335 - acc: 0.9895 - val_loss: 0.0280 - val_acc: 0.9921\n",
      "Epoch 10/12\n",
      "60000/60000 [==============================] - 5s 85us/step - loss: 0.0306 - acc: 0.9906 - val_loss: 0.0304 - val_acc: 0.9893\n",
      "Epoch 11/12\n",
      "60000/60000 [==============================] - 5s 85us/step - loss: 0.0277 - acc: 0.9913 - val_loss: 0.0277 - val_acc: 0.9912\n",
      "Epoch 12/12\n",
      "60000/60000 [==============================] - 5s 86us/step - loss: 0.0261 - acc: 0.9918 - val_loss: 0.0263 - val_acc: 0.9916\n",
      "Test loss: 0.02626945600984918\n",
      "Test accuracy: 0.9916\n"
     ]
    }
   ],
   "source": [
    "# Credits: https://github.com/keras-team/keras/blob/master/examples/mnist_cnn.py\n",
    "\n",
    "import warnings\n",
    "warnings.filterwarnings('ignore')\n",
    "from __future__ import print_function\n",
    "import keras\n",
    "from keras.datasets import mnist\n",
    "from keras.models import Sequential\n",
    "from keras.layers import Dense, Dropout, Flatten\n",
    "from keras.layers import Conv2D, MaxPooling2D\n",
    "from keras import backend as K\n",
    "from keras.layers.normalization import BatchNormalization\n",
    "\n",
    "batch_size = 128\n",
    "num_classes = 10\n",
    "epochs = 12\n",
    "\n",
    "# input image dimensions\n",
    "img_rows, img_cols = 28, 28\n",
    "\n",
    "# the data, split between train and test sets\n",
    "(x_train, y_train), (x_test, y_test) = mnist.load_data()\n",
    "\n",
    "if K.image_data_format() == 'channels_first':\n",
    "    x_train = x_train.reshape(x_train.shape[0], 1, img_rows, img_cols)\n",
    "    x_test = x_test.reshape(x_test.shape[0], 1, img_rows, img_cols)\n",
    "    input_shape = (1, img_rows, img_cols)\n",
    "else:\n",
    "    x_train = x_train.reshape(x_train.shape[0], img_rows, img_cols, 1)\n",
    "    x_test = x_test.reshape(x_test.shape[0], img_rows, img_cols, 1)\n",
    "    input_shape = (img_rows, img_cols, 1)\n",
    "\n",
    "x_train = x_train.astype('float32')\n",
    "x_test = x_test.astype('float32')\n",
    "x_train /= 255\n",
    "x_test /= 255\n",
    "print('x_train shape:', x_train.shape)\n",
    "print(x_train.shape[0], 'train samples')\n",
    "print(x_test.shape[0], 'test samples')\n",
    "\n",
    "# convert class vectors to binary class matrices\n",
    "y_train = keras.utils.to_categorical(y_train, num_classes)\n",
    "y_test = keras.utils.to_categorical(y_test, num_classes)\n",
    "\n",
    "model = Sequential()\n",
    "model.add(Conv2D(32, kernel_size=(3, 3),\n",
    "                 activation='relu',\n",
    "                 input_shape=input_shape))\n",
    "model.add(Conv2D(64, (3, 3), activation='relu'))\n",
    "model.add(MaxPooling2D(pool_size=(2, 2)))\n",
    "model.add(Dropout(0.25))\n",
    "model.add(Flatten())\n",
    "model.add(Dense(128, activation='relu'))\n",
    "model.add(Dropout(0.5))\n",
    "model.add(Dense(num_classes, activation='softmax'))\n",
    "\n",
    "model.compile(loss=keras.losses.categorical_crossentropy,\n",
    "              optimizer=keras.optimizers.Adadelta(),\n",
    "              metrics=['accuracy'])\n",
    "\n",
    "history=model.fit(x_train, y_train,\n",
    "          batch_size=batch_size,\n",
    "          epochs=epochs,\n",
    "          verbose=1,\n",
    "          validation_data=(x_test, y_test))\n",
    "score = model.evaluate(x_test, y_test, verbose=0)\n",
    "print('Test loss:', score[0])\n",
    "print('Test accuracy:', score[1])"
   ]
  },
  {
   "cell_type": "code",
   "execution_count": 0,
   "metadata": {
    "colab": {},
    "colab_type": "code",
    "id": "qedtFhUtpZTW"
   },
   "outputs": [],
   "source": [
    "%matplotlib notebook\n",
    "%matplotlib inline\n",
    "import matplotlib.pyplot as plt\n",
    "import numpy as np\n",
    "import time\n",
    "# https://gist.github.com/greydanus/f6eee59eaf1d90fcb3b534a25362cea4\n",
    "# https://stackoverflow.com/a/14434334\n",
    "# this function is used to update the plots for each epoch and error\n",
    "def plt_dynamic(x, vy, ty, ax, colors=['b']):\n",
    "    ax.plot(x, vy, 'b', label=\"Validation Loss\")\n",
    "    ax.plot(x, ty, 'r', label=\"Train Loss\")\n",
    "    plt.legend()\n",
    "    plt.grid()\n",
    "    fig.canvas.draw()"
   ]
  },
  {
   "cell_type": "code",
   "execution_count": 4,
   "metadata": {
    "colab": {
     "base_uri": "https://localhost:8080/",
     "height": 313
    },
    "colab_type": "code",
    "id": "s_46qxI-pZTn",
    "outputId": "ed58d775-a0e6-4895-e08d-8e400a77095f"
   },
   "outputs": [
    {
     "name": "stdout",
     "output_type": "stream",
     "text": [
      "Test score: 0.02626945600984918\n",
      "Test accuracy: 0.9916\n"
     ]
    },
    {
     "data": {
      "image/png": "[encoded data removed]",
      "text/plain": [
       "<Figure size 432x288 with 1 Axes>"
      ]
     },
     "metadata": {
      "tags": []
     },
     "output_type": "display_data"
    }
   ],
   "source": [
    "score = model.evaluate(x_test, y_test, verbose=0) \n",
    "print('Test score:', score[0]) \n",
    "print('Test accuracy:', score[1])\n",
    "\n",
    "fig,ax = plt.subplots(1,1)\n",
    "ax.set_xlabel('epoch') ; ax.set_ylabel('Categorical Crossentropy Loss')\n",
    "\n",
    "# list of epoch numbers\n",
    "x = list(range(1,epochs+1))\n",
    "\n",
    "# print(history.history.keys())\n",
    "# dict_keys(['val_loss', 'val_acc', 'loss', 'acc'])\n",
    "# history = model_drop.fit(X_train, Y_train, batch_size=batch_size, epochs=nb_epoch, verbose=1, validation_data=(X_test, Y_test))\n",
    "\n",
    "# we will get val_loss and val_acc only when you pass the paramter validation_data\n",
    "# val_loss : validation loss\n",
    "# val_acc : validation accuracy\n",
    "\n",
    "# loss : training loss\n",
    "# acc : train accuracy\n",
    "# for each key in histrory.histrory we will have a list of length equal to number of epochs\n",
    "\n",
    "vy = history.history['val_loss']\n",
    "ty = history.history['loss']\n",
    "plt_dynamic(x, vy, ty, ax)"
   ]
  },
  {
   "cell_type": "code",
   "execution_count": 5,
   "metadata": {
    "colab": {
     "base_uri": "https://localhost:8080/",
     "height": 530
    },
    "colab_type": "code",
    "id": "nRtuu-sLWxLH",
    "outputId": "cd940f65-4aee-4529-b9b4-d6126468eb3b"
   },
   "outputs": [
    {
     "name": "stdout",
     "output_type": "stream",
     "text": [
      "WARNING:tensorflow:From /usr/local/lib/python3.6/dist-packages/keras/backend/tensorflow_backend.py:2041: The name tf.nn.fused_batch_norm is deprecated. Please use tf.compat.v1.nn.fused_batch_norm instead.\n",
      "\n",
      "Train on 60000 samples, validate on 10000 samples\n",
      "Epoch 1/12\n",
      "60000/60000 [==============================] - 6s 100us/step - loss: 0.2375 - acc: 0.9286 - val_loss: 0.0558 - val_acc: 0.9823\n",
      "Epoch 2/12\n",
      "60000/60000 [==============================] - 5s 87us/step - loss: 0.0922 - acc: 0.9731 - val_loss: 0.0482 - val_acc: 0.9855\n",
      "Epoch 3/12\n",
      "60000/60000 [==============================] - 5s 87us/step - loss: 0.0665 - acc: 0.9804 - val_loss: 0.0560 - val_acc: 0.9831\n",
      "Epoch 4/12\n",
      "60000/60000 [==============================] - 5s 88us/step - loss: 0.0582 - acc: 0.9834 - val_loss: 0.0747 - val_acc: 0.9802\n",
      "Epoch 5/12\n",
      "60000/60000 [==============================] - 5s 87us/step - loss: 0.0496 - acc: 0.9853 - val_loss: 0.0478 - val_acc: 0.9873\n",
      "Epoch 6/12\n",
      "60000/60000 [==============================] - 5s 87us/step - loss: 0.0482 - acc: 0.9859 - val_loss: 0.0534 - val_acc: 0.9866\n",
      "Epoch 7/12\n",
      "60000/60000 [==============================] - 5s 89us/step - loss: 0.0416 - acc: 0.9877 - val_loss: 0.0578 - val_acc: 0.9856\n",
      "Epoch 8/12\n",
      "60000/60000 [==============================] - 5s 88us/step - loss: 0.0384 - acc: 0.9890 - val_loss: 0.0682 - val_acc: 0.9867\n",
      "Epoch 9/12\n",
      "60000/60000 [==============================] - 5s 87us/step - loss: 0.0356 - acc: 0.9892 - val_loss: 0.0454 - val_acc: 0.9891\n",
      "Epoch 10/12\n",
      "60000/60000 [==============================] - 5s 87us/step - loss: 0.0342 - acc: 0.9904 - val_loss: 0.0685 - val_acc: 0.9860\n",
      "Epoch 11/12\n",
      "60000/60000 [==============================] - 5s 89us/step - loss: 0.0320 - acc: 0.9912 - val_loss: 0.0513 - val_acc: 0.9878\n",
      "Epoch 12/12\n",
      "60000/60000 [==============================] - 5s 87us/step - loss: 0.0308 - acc: 0.9916 - val_loss: 0.0630 - val_acc: 0.9874\n",
      "Test loss: 0.06301421675248749\n",
      "Test accuracy: 0.9874\n"
     ]
    }
   ],
   "source": [
    "warnings.filterwarnings('ignore')\n",
    "model = Sequential()\n",
    "model.add(Conv2D(32, kernel_size=(2, 2),\n",
    "                 activation='relu',\n",
    "                 input_shape=input_shape))\n",
    "model.add(Conv2D(64, (2, 2), activation='relu'))\n",
    "model.add(MaxPooling2D(pool_size=(2, 2)))\n",
    "model.add(BatchNormalization())\n",
    "model.add(Dropout(0.3))\n",
    "model.add(Flatten())\n",
    "model.add(Dense(128, activation='relu'))\n",
    "model.add(Dropout(0.5))\n",
    "model.add(Dense(num_classes, activation='softmax'))\n",
    "\n",
    "model.compile(loss=keras.losses.categorical_crossentropy,\n",
    "              optimizer=keras.optimizers.Adadelta(),\n",
    "              metrics=['accuracy'])\n",
    "\n",
    "history=model.fit(x_train, y_train,\n",
    "          batch_size=batch_size,\n",
    "          epochs=epochs,\n",
    "          verbose=1,\n",
    "          validation_data=(x_test, y_test))\n",
    "score = model.evaluate(x_test, y_test, verbose=0)\n",
    "print('Test loss:', score[0])\n",
    "print('Test accuracy:', score[1])"
   ]
  },
  {
   "cell_type": "code",
   "execution_count": 6,
   "metadata": {
    "colab": {
     "base_uri": "https://localhost:8080/",
     "height": 313
    },
    "colab_type": "code",
    "id": "H2D2Wi0ApZT6",
    "outputId": "8726b47b-17d1-4aeb-8f18-9c49fd600b10"
   },
   "outputs": [
    {
     "name": "stdout",
     "output_type": "stream",
     "text": [
      "Test score: 0.06301421675248749\n",
      "Test accuracy: 0.9874\n"
     ]
    },
    {
     "data": {
      "image/png": "[encoded data removed]",
      "text/plain": [
       "<Figure size 432x288 with 1 Axes>"
      ]
     },
     "metadata": {
      "tags": []
     },
     "output_type": "display_data"
    }
   ],
   "source": [
    "score = model.evaluate(x_test, y_test, verbose=0) \n",
    "print('Test score:', score[0]) \n",
    "print('Test accuracy:', score[1])\n",
    "\n",
    "fig,ax = plt.subplots(1,1)\n",
    "ax.set_xlabel('epoch') ; ax.set_ylabel('Categorical Crossentropy Loss')\n",
    "\n",
    "# list of epoch numbers\n",
    "x = list(range(1,epochs+1))\n",
    "\n",
    "# print(history.history.keys())\n",
    "# dict_keys(['val_loss', 'val_acc', 'loss', 'acc'])\n",
    "# history = model_drop.fit(X_train, Y_train, batch_size=batch_size, epochs=nb_epoch, verbose=1, validation_data=(X_test, Y_test))\n",
    "\n",
    "# we will get val_loss and val_acc only when you pass the paramter validation_data\n",
    "# val_loss : validation loss\n",
    "# val_acc : validation accuracy\n",
    "\n",
    "# loss : training loss\n",
    "# acc : train accuracy\n",
    "# for each key in histrory.histrory we will have a list of length equal to number of epochs\n",
    "\n",
    "vy = history.history['val_loss']\n",
    "ty = history.history['loss']\n",
    "plt_dynamic(x, vy, ty, ax)"
   ]
  },
  {
   "cell_type": "code",
   "execution_count": 7,
   "metadata": {
    "colab": {
     "base_uri": "https://localhost:8080/",
     "height": 476
    },
    "colab_type": "code",
    "id": "9ZaiSDQyy83b",
    "outputId": "9c89c005-8521-4f12-d4d0-49bdf58473a7"
   },
   "outputs": [
    {
     "name": "stdout",
     "output_type": "stream",
     "text": [
      "Train on 60000 samples, validate on 10000 samples\n",
      "Epoch 1/12\n",
      "60000/60000 [==============================] - 14s 226us/step - loss: 0.2876 - acc: 0.9182 - val_loss: 0.0550 - val_acc: 0.9830\n",
      "Epoch 2/12\n",
      "60000/60000 [==============================] - 12s 204us/step - loss: 0.0977 - acc: 0.9723 - val_loss: 0.0565 - val_acc: 0.9839\n",
      "Epoch 3/12\n",
      "60000/60000 [==============================] - 12s 204us/step - loss: 0.0758 - acc: 0.9800 - val_loss: 0.0413 - val_acc: 0.9870\n",
      "Epoch 4/12\n",
      "60000/60000 [==============================] - 12s 206us/step - loss: 0.0627 - acc: 0.9830 - val_loss: 0.0413 - val_acc: 0.9893\n",
      "Epoch 5/12\n",
      "60000/60000 [==============================] - 12s 205us/step - loss: 0.0516 - acc: 0.9853 - val_loss: 0.0306 - val_acc: 0.9898\n",
      "Epoch 6/12\n",
      "60000/60000 [==============================] - 12s 205us/step - loss: 0.0435 - acc: 0.9879 - val_loss: 0.0369 - val_acc: 0.9891\n",
      "Epoch 7/12\n",
      "60000/60000 [==============================] - 12s 204us/step - loss: 0.0428 - acc: 0.9881 - val_loss: 0.0313 - val_acc: 0.9911\n",
      "Epoch 8/12\n",
      "60000/60000 [==============================] - 12s 204us/step - loss: 0.0354 - acc: 0.9899 - val_loss: 0.0421 - val_acc: 0.9881\n",
      "Epoch 9/12\n",
      "60000/60000 [==============================] - 12s 204us/step - loss: 0.0346 - acc: 0.9901 - val_loss: 0.0866 - val_acc: 0.9864\n",
      "Epoch 10/12\n",
      "60000/60000 [==============================] - 12s 204us/step - loss: 0.0322 - acc: 0.9910 - val_loss: 0.0640 - val_acc: 0.9860\n",
      "Epoch 11/12\n",
      "60000/60000 [==============================] - 12s 204us/step - loss: 0.0279 - acc: 0.9920 - val_loss: 0.0495 - val_acc: 0.9885\n",
      "Epoch 12/12\n",
      "60000/60000 [==============================] - 12s 205us/step - loss: 0.0285 - acc: 0.9922 - val_loss: 0.0367 - val_acc: 0.9908\n",
      "Test loss: 0.03671459837800094\n",
      "Test accuracy: 0.9908\n"
     ]
    }
   ],
   "source": [
    "warnings.filterwarnings('ignore')69\n",
    "model = Sequential()\n",
    "model.add(Conv2D(64, kernel_size=(3, 3),\n",
    "                 activation='relu',\n",
    "                 input_shape=input_shape))\n",
    "model.add(Dropout(0.35))\n",
    "model.add(BatchNormalization())\n",
    "model.add(Conv2D(128, (3, 3), activation='relu'))\n",
    "model.add(Conv2D(32, (3, 3), activation='relu'))\n",
    "model.add(Dropout(0.25))\n",
    "model.add(BatchNormalization())\n",
    "model.add(MaxPooling2D(pool_size=(2, 2)))\n",
    "model.add(Flatten())\n",
    "model.add(Dense(128, activation='relu'))\n",
    "model.add(Dropout(0.5))\n",
    "model.add(Dense(num_classes, activation='softmax'))\n",
    "\n",
    "model.compile(loss=keras.losses.categorical_crossentropy,\n",
    "              optimizer=keras.optimizers.Adadelta(),\n",
    "              metrics=['accuracy'])\n",
    "\n",
    "history=model.fit(x_train, y_train,\n",
    "          batch_size=batch_size,\n",
    "          epochs=epochs,\n",
    "          verbose=1,\n",
    "          validation_data=(x_test, y_test))\n",
    "score = model.evaluate(x_test, y_test, verbose=0)\n",
    "print('Test loss:', score[0])\n",
    "print('Test accuracy:', score[1])"
   ]
  },
  {
   "cell_type": "code",
   "execution_count": 8,
   "metadata": {
    "colab": {
     "base_uri": "https://localhost:8080/",
     "height": 317
    },
    "colab_type": "code",
    "id": "oOODK8YOpZUS",
    "outputId": "2b7bfe56-5c6e-4c15-9f38-1e598a4595f1",
    "scrolled": false
   },
   "outputs": [
    {
     "name": "stdout",
     "output_type": "stream",
     "text": [
      "Test score: 0.03671459837800094\n",
      "Test accuracy: 0.9908\n"
     ]
    },
    {
     "data": {
      "image/png": "[encoded data removed]",
      "text/plain": [
       "<Figure size 432x288 with 1 Axes>"
      ]
     },
     "metadata": {
      "tags": []
     },
     "output_type": "display_data"
    }
   ],
   "source": [
    "score = model.evaluate(x_test, y_test, verbose=0) \n",
    "print('Test score:', score[0]) \n",
    "print('Test accuracy:', score[1])\n",
    "\n",
    "fig,ax = plt.subplots(1,1)\n",
    "ax.set_xlabel('epoch') ; ax.set_ylabel('Categorical Crossentropy Loss')\n",
    "\n",
    "# list of epoch numbers\n",
    "x = list(range(1,epochs+1))\n",
    "\n",
    "# print(history.history.keys())\n",
    "# dict_keys(['val_loss', 'val_acc', 'loss', 'acc'])\n",
    "# history = model_drop.fit(X_train, Y_train, batch_size=batch_size, epochs=nb_epoch, verbose=1, validation_data=(X_test, Y_test))\n",
    "\n",
    "# we will get val_loss and val_acc only when you pass the paramter validation_data\n",
    "# val_loss : validation loss\n",
    "# val_acc : validation accuracy\n",
    "\n",
    "# loss : training loss\n",
    "# acc : train accuracy\n",
    "# for each key in histrory.histrory we will have a list of length equal to number of epochs\n",
    "\n",
    "vy = history.history['val_loss']\n",
    "ty = history.history['loss']\n",
    "plt_dynamic(x, vy, ty, ax)"
   ]
  },
  {
   "cell_type": "code",
   "execution_count": 9,
   "metadata": {
    "colab": {
     "base_uri": "https://localhost:8080/",
     "height": 476
    },
    "colab_type": "code",
    "id": "rywglAFj0RSP",
    "outputId": "45bacf89-4c39-446b-ac0b-51c01ca7b317"
   },
   "outputs": [
    {
     "name": "stdout",
     "output_type": "stream",
     "text": [
      "Train on 60000 samples, validate on 10000 samples\n",
      "Epoch 1/12\n",
      "60000/60000 [==============================] - 24s 408us/step - loss: 0.2044 - acc: 0.9390 - val_loss: 0.1035 - val_acc: 0.9741\n",
      "Epoch 2/12\n",
      "60000/60000 [==============================] - 22s 368us/step - loss: 0.0675 - acc: 0.9811 - val_loss: 0.0441 - val_acc: 0.9881\n",
      "Epoch 3/12\n",
      "60000/60000 [==============================] - 22s 372us/step - loss: 0.0451 - acc: 0.9875 - val_loss: 0.0386 - val_acc: 0.9917\n",
      "Epoch 4/12\n",
      "60000/60000 [==============================] - 22s 369us/step - loss: 0.0375 - acc: 0.9894 - val_loss: 0.0241 - val_acc: 0.9937\n",
      "Epoch 5/12\n",
      "60000/60000 [==============================] - 22s 367us/step - loss: 0.0339 - acc: 0.9901 - val_loss: 0.0242 - val_acc: 0.9934\n",
      "Epoch 6/12\n",
      "60000/60000 [==============================] - 22s 368us/step - loss: 0.0270 - acc: 0.9924 - val_loss: 0.0443 - val_acc: 0.9911\n",
      "Epoch 7/12\n",
      "60000/60000 [==============================] - 22s 368us/step - loss: 0.0238 - acc: 0.9933 - val_loss: 0.0246 - val_acc: 0.9941\n",
      "Epoch 8/12\n",
      "60000/60000 [==============================] - 22s 369us/step - loss: 0.0221 - acc: 0.9939 - val_loss: 0.0247 - val_acc: 0.9941\n",
      "Epoch 9/12\n",
      "60000/60000 [==============================] - 22s 368us/step - loss: 0.0203 - acc: 0.9941 - val_loss: 0.0242 - val_acc: 0.9940\n",
      "Epoch 10/12\n",
      "60000/60000 [==============================] - 22s 368us/step - loss: 0.0174 - acc: 0.9952 - val_loss: 0.0289 - val_acc: 0.9938\n",
      "Epoch 11/12\n",
      "60000/60000 [==============================] - 22s 368us/step - loss: 0.0178 - acc: 0.9953 - val_loss: 0.0259 - val_acc: 0.9937\n",
      "Epoch 12/12\n",
      "60000/60000 [==============================] - 22s 368us/step - loss: 0.0155 - acc: 0.9954 - val_loss: 0.0303 - val_acc: 0.9923\n",
      "Test loss: 0.030283799503118554\n",
      "Test accuracy: 0.9923\n"
     ]
    }
   ],
   "source": [
    "warnings.filterwarnings('ignore')\n",
    "model = Sequential()\n",
    "model.add(Conv2D(64, kernel_size=(5, 5),\n",
    "                 activation='relu',\n",
    "                 input_shape=input_shape))\n",
    "model.add(Dropout(0.35))\n",
    "model.add(BatchNormalization())\n",
    "model.add(Conv2D(128, (5, 5), activation='relu'))\n",
    "model.add(Conv2D(256, (5, 5), activation='relu'))\n",
    "model.add(Dropout(0.25))\n",
    "model.add(BatchNormalization())\n",
    "model.add(MaxPooling2D(pool_size=(1, 1)))\n",
    "model.add(Conv2D(64, (5, 5), activation='relu'))\n",
    "model.add(Conv2D(16, (5, 5), activation='relu'))\n",
    "model.add(BatchNormalization())\n",
    "model.add(Flatten())\n",
    "model.add(Dense(128, activation='relu'))\n",
    "model.add(Dropout(0.5))\n",
    "model.add(Dense(num_classes, activation='softmax'))\n",
    "\n",
    "model.compile(loss=keras.losses.categorical_crossentropy,\n",
    "              optimizer=keras.optimizers.Adadelta(),\n",
    "              metrics=['accuracy'])\n",
    "\n",
    "history=model.fit(x_train, y_train,\n",
    "          batch_size=batch_size,\n",
    "          epochs=epochs,\n",
    "          verbose=1,\n",
    "          validation_data=(x_test, y_test))\n",
    "score = model.evaluate(x_test, y_test, verbose=0)\n",
    "print('Test loss:', score[0])\n",
    "print('Test accuracy:', score[1])"
   ]
  },
  {
   "cell_type": "code",
   "execution_count": 10,
   "metadata": {
    "colab": {
     "base_uri": "https://localhost:8080/",
     "height": 313
    },
    "colab_type": "code",
    "id": "R40iBk08pZUg",
    "outputId": "66c445d8-1bd7-49d5-9009-639041344719"
   },
   "outputs": [
    {
     "name": "stdout",
     "output_type": "stream",
     "text": [
      "Test score: 0.030283799503118554\n",
      "Test accuracy: 0.9923\n"
     ]
    },
    {
     "data": {
      "image/png": "[encoded data removed]",
      "text/plain": [
       "<Figure size 432x288 with 1 Axes>"
      ]
     },
     "metadata": {
      "tags": []
     },
     "output_type": "display_data"
    }
   ],
   "source": [
    "score = model.evaluate(x_test, y_test, verbose=0) \n",
    "print('Test score:', score[0]) \n",
    "print('Test accuracy:', score[1])\n",
    "\n",
    "fig,ax = plt.subplots(1,1)\n",
    "ax.set_xlabel('epoch') ; ax.set_ylabel('Categorical Crossentropy Loss')\n",
    "\n",
    "# list of epoch numbers\n",
    "x = list(range(1,epochs+1))\n",
    "\n",
    "# print(history.history.keys())\n",
    "# dict_keys(['val_loss', 'val_acc', 'loss', 'acc'])\n",
    "# history = model_drop.fit(X_train, Y_train, batch_size=batch_size, epochs=nb_epoch, verbose=1, validation_data=(X_test, Y_test))\n",
    "\n",
    "# we will get val_loss and val_acc only when you pass the paramter validation_data\n",
    "# val_loss : validation loss\n",
    "# val_acc : validation accuracy\n",
    "\n",
    "# loss : training loss\n",
    "# acc : train accuracy\n",
    "# for each key in histrory.histrory we will have a list of length equal to number of epochs\n",
    "\n",
    "vy = history.history['val_loss']\n",
    "ty = history.history['loss']\n",
    "plt_dynamic(x, vy, ty, ax)"
   ]
  },
  {
   "cell_type": "code",
   "execution_count": 11,
   "metadata": {
    "colab": {
     "base_uri": "https://localhost:8080/",
     "height": 476
    },
    "colab_type": "code",
    "id": "11bfteTtYaA2",
    "outputId": "e7792481-e274-4c98-9b4d-0792ff9c11fd"
   },
   "outputs": [
    {
     "name": "stdout",
     "output_type": "stream",
     "text": [
      "Train on 60000 samples, validate on 10000 samples\n",
      "Epoch 1/12\n",
      "60000/60000 [==============================] - 12s 197us/step - loss: 0.3463 - acc: 0.8940 - val_loss: 0.0612 - val_acc: 0.9862\n",
      "Epoch 2/12\n",
      "60000/60000 [==============================] - 10s 163us/step - loss: 0.0846 - acc: 0.9762 - val_loss: 0.0506 - val_acc: 0.9889\n",
      "Epoch 3/12\n",
      "60000/60000 [==============================] - 10s 165us/step - loss: 0.0588 - acc: 0.9836 - val_loss: 0.0454 - val_acc: 0.9888\n",
      "Epoch 4/12\n",
      "60000/60000 [==============================] - 10s 166us/step - loss: 0.0475 - acc: 0.9864 - val_loss: 0.0343 - val_acc: 0.9920\n",
      "Epoch 5/12\n",
      "60000/60000 [==============================] - 10s 166us/step - loss: 0.0429 - acc: 0.9880 - val_loss: 0.0378 - val_acc: 0.9904\n",
      "Epoch 6/12\n",
      "60000/60000 [==============================] - 10s 165us/step - loss: 0.0374 - acc: 0.9895 - val_loss: 0.0312 - val_acc: 0.9923\n",
      "Epoch 7/12\n",
      "60000/60000 [==============================] - 10s 164us/step - loss: 0.0335 - acc: 0.9905 - val_loss: 0.0419 - val_acc: 0.9874\n",
      "Epoch 8/12\n",
      "60000/60000 [==============================] - 10s 163us/step - loss: 0.0309 - acc: 0.9912 - val_loss: 0.0269 - val_acc: 0.9936\n",
      "Epoch 9/12\n",
      "60000/60000 [==============================] - 10s 163us/step - loss: 0.0281 - acc: 0.9922 - val_loss: 0.0230 - val_acc: 0.9935\n",
      "Epoch 10/12\n",
      "60000/60000 [==============================] - 10s 163us/step - loss: 0.0249 - acc: 0.9926 - val_loss: 0.0257 - val_acc: 0.9930\n",
      "Epoch 11/12\n",
      "60000/60000 [==============================] - 10s 163us/step - loss: 0.0235 - acc: 0.9932 - val_loss: 0.0253 - val_acc: 0.9923\n",
      "Epoch 12/12\n",
      "60000/60000 [==============================] - 10s 163us/step - loss: 0.0233 - acc: 0.9932 - val_loss: 0.0224 - val_acc: 0.9941\n",
      "Test loss: 0.02236158835059032\n",
      "Test accuracy: 0.9941\n"
     ]
    }
   ],
   "source": [
    "model = Sequential()\n",
    "model.add(Conv2D(32, kernel_size=(2, 2),\n",
    "                 activation='relu',\n",
    "                 input_shape=input_shape))\n",
    "model.add(Conv2D(64, (5, 5), activation='relu'))\n",
    "model.add(MaxPooling2D(pool_size=(2, 2)))\n",
    "model.add(Dropout(0.25))\n",
    "model.add(Conv2D(128, (3, 3), activation='relu'))\n",
    "model.add(Conv2D(256, (4, 4), activation='relu'))\n",
    "model.add(Dropout(0.35))\n",
    "model.add(BatchNormalization())\n",
    "model.add(MaxPooling2D(pool_size=(2, 2)))\n",
    "model.add(Dropout(0.3))\n",
    "model.add(BatchNormalization())\n",
    "model.add(Conv2D(64, (2, 2), activation='relu'))\n",
    "model.add(Dropout(0.4))\n",
    "model.add(BatchNormalization())\n",
    "model.add(MaxPooling2D(pool_size=(2, 2)))\n",
    "model.add(Flatten())\n",
    "model.add(Dense(128, activation='relu'))\n",
    "model.add(Dropout(0.5))\n",
    "model.add(Dense(num_classes, activation='softmax'))\n",
    "\n",
    "model.compile(loss=keras.losses.categorical_crossentropy,\n",
    "              optimizer=keras.optimizers.Adadelta(),\n",
    "              metrics=['accuracy'])\n",
    "\n",
    "history=model.fit(x_train, y_train,\n",
    "          batch_size=batch_size,\n",
    "          epochs=epochs,\n",
    "          verbose=1,\n",
    "          validation_data=(x_test, y_test))\n",
    "score = model.evaluate(x_test, y_test, verbose=0)\n",
    "print('Test loss:', score[0])\n",
    "print('Test accuracy:', score[1])"
   ]
  },
  {
   "cell_type": "code",
   "execution_count": 12,
   "metadata": {
    "colab": {
     "base_uri": "https://localhost:8080/",
     "height": 313
    },
    "colab_type": "code",
    "id": "TqsV5li_pZUz",
    "outputId": "681b0d22-c964-4291-bc56-62029c5288d9"
   },
   "outputs": [
    {
     "name": "stdout",
     "output_type": "stream",
     "text": [
      "Test score: 0.02236158835059032\n",
      "Test accuracy: 0.9941\n"
     ]
    },
    {
     "data": {
      "image/png": "[encoded data removed]",
      "text/plain": [
       "<Figure size 432x288 with 1 Axes>"
      ]
     },
     "metadata": {
      "tags": []
     },
     "output_type": "display_data"
    }
   ],
   "source": [
    "score = model.evaluate(x_test, y_test, verbose=0) \n",
    "print('Test score:', score[0]) \n",
    "print('Test accuracy:', score[1])\n",
    "\n",
    "fig,ax = plt.subplots(1,1)\n",
    "ax.set_xlabel('epoch') ; ax.set_ylabel('Categorical Crossentropy Loss')\n",
    "\n",
    "# list of epoch numbers\n",
    "x = list(range(1,epochs+1))\n",
    "\n",
    "# print(history.history.keys())\n",
    "# dict_keys(['val_loss', 'val_acc', 'loss', 'acc'])\n",
    "# history = model_drop.fit(X_train, Y_train, batch_size=batch_size, epochs=nb_epoch, verbose=1, validation_data=(X_test, Y_test))\n",
    "\n",
    "# we will get val_loss and val_acc only when you pass the paramter validation_data\n",
    "# val_loss : validation loss\n",
    "# val_acc : validation accuracy\n",
    "\n",
    "# loss : training loss\n",
    "# acc : train accuracy\n",
    "# for each key in histrory.histrory we will have a list of length equal to number of epochs\n",
    "\n",
    "vy = history.history['val_loss']\n",
    "ty = history.history['loss']\n",
    "plt_dynamic(x, vy, ty, ax)"
   ]
  },
  {
   "cell_type": "code",
   "execution_count": 13,
   "metadata": {
    "colab": {
     "base_uri": "https://localhost:8080/",
     "height": 476
    },
    "colab_type": "code",
    "id": "dIM_tx09bVHn",
    "outputId": "bccb7bc4-80ae-46b0-c4d3-ce099f8908db"
   },
   "outputs": [
    {
     "name": "stdout",
     "output_type": "stream",
     "text": [
      "Train on 60000 samples, validate on 10000 samples\n",
      "Epoch 1/12\n",
      "60000/60000 [==============================] - 24s 405us/step - loss: 0.4530 - acc: 0.8667 - val_loss: 0.1352 - val_acc: 0.9764\n",
      "Epoch 2/12\n",
      "60000/60000 [==============================] - 21s 354us/step - loss: 0.1109 - acc: 0.9754 - val_loss: 0.0770 - val_acc: 0.9848\n",
      "Epoch 3/12\n",
      "60000/60000 [==============================] - 21s 357us/step - loss: 0.0806 - acc: 0.9823 - val_loss: 0.0442 - val_acc: 0.9900\n",
      "Epoch 4/12\n",
      "60000/60000 [==============================] - 21s 353us/step - loss: 0.0652 - acc: 0.9861 - val_loss: 0.0627 - val_acc: 0.9872\n",
      "Epoch 5/12\n",
      "60000/60000 [==============================] - 21s 352us/step - loss: 0.0550 - acc: 0.9879 - val_loss: 0.0403 - val_acc: 0.9925\n",
      "Epoch 6/12\n",
      "60000/60000 [==============================] - 21s 353us/step - loss: 0.0523 - acc: 0.9889 - val_loss: 0.0444 - val_acc: 0.9910\n",
      "Epoch 7/12\n",
      "60000/60000 [==============================] - 21s 355us/step - loss: 0.0436 - acc: 0.9902 - val_loss: 0.0397 - val_acc: 0.9931\n",
      "Epoch 8/12\n",
      "60000/60000 [==============================] - 21s 355us/step - loss: 0.0420 - acc: 0.9908 - val_loss: 0.0466 - val_acc: 0.9891\n",
      "Epoch 9/12\n",
      "60000/60000 [==============================] - 21s 355us/step - loss: 0.0377 - acc: 0.9918 - val_loss: 0.0383 - val_acc: 0.9938\n",
      "Epoch 10/12\n",
      "60000/60000 [==============================] - 21s 354us/step - loss: 0.0336 - acc: 0.9929 - val_loss: 0.0362 - val_acc: 0.9940\n",
      "Epoch 11/12\n",
      "60000/60000 [==============================] - 21s 355us/step - loss: 0.0309 - acc: 0.9930 - val_loss: 0.0312 - val_acc: 0.9943\n",
      "Epoch 12/12\n",
      "60000/60000 [==============================] - 21s 354us/step - loss: 0.0314 - acc: 0.9932 - val_loss: 0.0435 - val_acc: 0.9931\n",
      "Test loss: 0.04352422992484726\n",
      "Test accuracy: 0.9931\n"
     ]
    }
   ],
   "source": [
    "warnings.filterwarnings('ignore')\n",
    "model = Sequential()\n",
    "model.add(Conv2D(64, kernel_size=(7, 7),\n",
    "                 activation='relu',\n",
    "                 input_shape=input_shape))\n",
    "model.add(Dropout(0.35))\n",
    "model.add(BatchNormalization())\n",
    "model.add(Conv2D(128, (7, 7), activation='relu'))\n",
    "model.add(Conv2D(256, (7, 7), activation='relu'))\n",
    "model.add(Dropout(0.25))\n",
    "model.add(BatchNormalization())\n",
    "model.add(Conv2D(128, (7, 7), activation='relu'))\n",
    "model.add(BatchNormalization())\n",
    "model.add(Conv2D(128, (4, 4), activation='relu'))\n",
    "model.add(Dropout(0.4))\n",
    "model.add(BatchNormalization())\n",
    "model.add(Conv2D(32, (1, 1), activation='relu'))\n",
    "model.add(Dropout(0.275))\n",
    "model.add(MaxPooling2D(pool_size=(1, 1)))\n",
    "model.add(Conv2D(8, (1, 1), activation='relu'))\n",
    "model.add(Flatten())\n",
    "model.add(Dense(128, activation='relu'))\n",
    "model.add(Dropout(0.5))\n",
    "model.add(Dense(num_classes, activation='softmax'))\n",
    "\n",
    "model.compile(loss=keras.losses.categorical_crossentropy,\n",
    "              optimizer=keras.optimizers.Adadelta(),\n",
    "              metrics=['accuracy'])\n",
    "\n",
    "history=model.fit(x_train, y_train,\n",
    "          batch_size=batch_size,\n",
    "          epochs=epochs,\n",
    "          verbose=1,\n",
    "          validation_data=(x_test, y_test))\n",
    "score = model.evaluate(x_test, y_test, verbose=0)\n",
    "print('Test loss:', score[0])\n",
    "print('Test accuracy:', score[1])"
   ]
  },
  {
   "cell_type": "code",
   "execution_count": 14,
   "metadata": {
    "colab": {
     "base_uri": "https://localhost:8080/",
     "height": 313
    },
    "colab_type": "code",
    "id": "gdxXebeupZVA",
    "outputId": "f5878a4b-fced-4707-e06e-f7390b6e6fad"
   },
   "outputs": [
    {
     "name": "stdout",
     "output_type": "stream",
     "text": [
      "Test score: 0.04352422992484726\n",
      "Test accuracy: 0.9931\n"
     ]
    },
    {
     "data": {
      "image/png": "[encoded data removed]",
      "text/plain": [
       "<Figure size 432x288 with 1 Axes>"
      ]
     },
     "metadata": {
      "tags": []
     },
     "output_type": "display_data"
    }
   ],
   "source": [
    "score = model.evaluate(x_test, y_test, verbose=0) \n",
    "print('Test score:', score[0]) \n",
    "print('Test accuracy:', score[1])\n",
    "\n",
    "fig,ax = plt.subplots(1,1)\n",
    "ax.set_xlabel('epoch') ; ax.set_ylabel('Categorical Crossentropy Loss')\n",
    "\n",
    "# list of epoch numbers\n",
    "x = list(range(1,epochs+1))\n",
    "\n",
    "# print(history.history.keys())\n",
    "# dict_keys(['val_loss', 'val_acc', 'loss', 'acc'])\n",
    "# history = model_drop.fit(X_train, Y_train, batch_size=batch_size, epochs=nb_epoch, verbose=1, validation_data=(X_test, Y_test))\n",
    "\n",
    "# we will get val_loss and val_acc only when you pass the paramter validation_data\n",
    "# val_loss : validation loss\n",
    "# val_acc : validation accuracy\n",
    "\n",
    "# loss : training loss\n",
    "# acc : train accuracy\n",
    "# for each key in histrory.histrory we will have a list of length equal to number of epochs\n",
    "\n",
    "vy = history.history['val_loss']\n",
    "ty = history.history['loss']\n",
    "plt_dynamic(x, vy, ty, ax)"
   ]
  },
  {
   "cell_type": "markdown",
   "metadata": {
    "colab_type": "text",
    "id": "lveSgj4hJPN6"
   },
   "source": [
    "## Conclusions"
   ]
  },
  {
   "cell_type": "markdown",
   "metadata": {
    "colab_type": "text",
    "id": "tC6svbcWJ1JX"
   },
   "source": [
    "In this assignment I tried to implement different CNN architectures, each with different kernel sizes and different number of convolutional layers(2, 3, 5, and 7 layers). I also used different combinations of dropout layers, batch normalizations and maxpooling.\n",
    "\n",
    "Of all the architectures that I tried, the model with different kernel sizes for each layer((2,2),(5,5),(3,3),(4,4),(2,2)), and 5 convolutional layers gave the best results.\n",
    "\n",
    "This model gave a Test loss of approximately 0.02236, and a Test accuracy of 0.9941. The difference between train loss and test loss is small, therefore there is no overfitting in this case. \n",
    "\n",
    "This is a better result than that of the original architecture provided in the notebook(Test loss=0.026269, Test accuracy=0.9916)."
   ]
  },
  {
   "cell_type": "code",
   "execution_count": 0,
   "metadata": {
    "colab": {},
    "colab_type": "code",
    "id": "1-LBDFQoKeLQ"
   },
   "outputs": [],
   "source": []
  }
 ],
 "metadata": {
  "accelerator": "GPU",
  "colab": {
   "collapsed_sections": [],
   "name": "CNN_MNIST.ipynb",
   "provenance": []
  },
  "kernelspec": {
   "display_name": "Python 3",
   "language": "python",
   "name": "python3"
  },
  "language_info": {
   "codemirror_mode": {
    "name": "ipython",
    "version": 3
   },
   "file_extension": ".py",
   "mimetype": "text/x-python",
   "name": "python",
   "nbconvert_exporter": "python",
   "pygments_lexer": "ipython3",
   "version": "3.6.9"
  }
 },
 "nbformat": 4,
 "nbformat_minor": 1
}

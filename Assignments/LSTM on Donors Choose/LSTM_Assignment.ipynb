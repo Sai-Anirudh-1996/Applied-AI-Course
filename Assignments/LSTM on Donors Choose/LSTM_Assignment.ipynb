{
 "cells": [
  {
   "cell_type": "markdown",
   "metadata": {
    "colab_type": "text",
    "id": "rZqCoClUgGYD"
   },
   "source": [
    "## Assignment : 14"
   ]
  },
  {
   "cell_type": "markdown",
   "metadata": {
    "colab_type": "text",
    "id": "SHu36PTsgGYH"
   },
   "source": [
    "<pre>\n",
    "1. Preprocess all the Data we have in DonorsChoose <a href='https://drive.google.com/drive/folders/1MIwK7BQMev8f5CbDDVNLPaFGB32pFN60'>Dataset</a> use train.csv\n",
    "2. Combine 4 essay's into one column named - 'preprocessed_essays'. \n",
    "3. After step 2 you have to train 3 types of models as discussed below. \n",
    "4. For all the model use <a href='https://scikit-learn.org/stable/modules/model_evaluation.html#roc-metrics'>'auc'</a> as a metric. check <a href='https://datascience.stackexchange.com/a/20192'>this</a> for using auc as a metric \n",
    "5. You are free to choose any number of layers/hiddden units but you have to use same type of architectures shown below. \n",
    "6. You can use any one of the optimizers and choice of Learning rate and momentum, resources: <a href='http://cs231n.github.io/neural-networks-3/'>cs231n class notes</a>, <a href='https://www.youtube.com/watch?v=hd_KFJ5ktUc'>cs231n class video</a>. \n",
    "7. For all the model's use <a href='https://www.youtube.com/watch?v=2U6Jl7oqRkM'>TensorBoard</a> and plot the Metric value and Loss with epoch. While submitting, take a screenshot of plots and include those images in .ipynb notebook and PDF. \n",
    "8. Use Categorical Cross Entropy as Loss to minimize.\n",
    "</pre>"
   ]
  },
  {
   "cell_type": "markdown",
   "metadata": {
    "colab_type": "text",
    "id": "q3DIZKr4gGYJ"
   },
   "source": [
    "### Model-1\n",
    "\n",
    "Build and Train deep neural network as shown below"
   ]
  },
  {
   "cell_type": "markdown",
   "metadata": {
    "colab_type": "text",
    "id": "3ZgdbWM-gGYK"
   },
   "source": [
    "<img src='https://i.imgur.com/w395Yk9.png'>\n",
    "ref: https://i.imgur.com/w395Yk9.png"
   ]
  },
  {
   "cell_type": "markdown",
   "metadata": {
    "colab_type": "text",
    "id": "tE2yZP57gGYM"
   },
   "source": [
    "- __Input_seq_total_text_data__ --- You have to give Total text data columns. After this use the Embedding layer to get word vectors. Use given predefined glove word vectors, don't train any word vectors. After this use LSTM and get the LSTM output and Flatten that output. \n",
    "- __Input_school_state__ --- Give 'school_state' column as input to embedding layer and Train the Keras Embedding layer. \n",
    "- __Project_grade_category__  --- Give 'project_grade_category' column as input to embedding layer and Train the Keras Embedding layer.\n",
    "- __Input_clean_categories__ --- Give 'input_clean_categories' column as input to embedding layer and Train the Keras Embedding layer.\n",
    "- __Input_clean_subcategories__ --- Give 'input_clean_subcategories' column as input to embedding layer and Train the Keras Embedding layer.\n",
    "- __Input_clean_subcategories__ --- Give 'input_teacher_prefix' column as input to embedding layer and Train the Keras Embedding layer.\n",
    "- __Input_remaining_teacher_number_of_previously_posted_projects._resource_summary_contains_numerical_digits._price._quantity__ ---concatenate remaining columns and add a Dense layer after that. \n",
    "\n"
   ]
  },
  {
   "cell_type": "markdown",
   "metadata": {
    "colab_type": "text",
    "id": "renx_zWEgGYO"
   },
   "source": [
    "- For LSTM, you can choose your sequence padding methods on your own or you can train your LSTM without padding, there is no restriction on that."
   ]
  },
  {
   "cell_type": "markdown",
   "metadata": {
    "colab_type": "text",
    "id": "6ed8p0z4gGYP"
   },
   "source": [
    "Below is an example of embedding layer for a categorical columns. In below code all are dummy values, we gave only for referance. "
   ]
  },
  {
   "cell_type": "code",
   "execution_count": 1,
   "metadata": {
    "colab": {
     "base_uri": "https://localhost:8080/",
     "height": 54
    },
    "colab_type": "code",
    "id": "3U6OwZhWgGYR",
    "outputId": "432429a9-2d6d-48c6-f8b4-2a6f407f3fcd"
   },
   "outputs": [
    {
     "data": {
      "text/plain": [
       "'# https://stats.stackexchange.com/questions/270546/how-does-keras-embedding-layer-work\\ninput_layer = Input(shape=(n,))\\nembedding = Embedding(no_1, no_2, input_length=n)(input_layer)\\nflatten = Flatten()(embedding)'"
      ]
     },
     "execution_count": 1,
     "metadata": {
      "tags": []
     },
     "output_type": "execute_result"
    }
   ],
   "source": [
    "'''# https://stats.stackexchange.com/questions/270546/how-does-keras-embedding-layer-work\n",
    "input_layer = Input(shape=(n,))\n",
    "embedding = Embedding(no_1, no_2, input_length=n)(input_layer)\n",
    "flatten = Flatten()(embedding)'''"
   ]
  },
  {
   "cell_type": "markdown",
   "metadata": {
    "colab_type": "text",
    "id": "5h0d5_-NgGYX"
   },
   "source": [
    "### 1. Go through this blog, if you have any doubt on using predefined Embedding values in Embedding layer - https://machinelearningmastery.com/use-word-embedding-layers-deep-learning-keras/\n",
    "### 2. Please go through this link https://keras.io/getting-started/functional-api-guide/ and check the 'Multi-input and multi-output models' then you will get to know how to give multiple inputs. "
   ]
  },
  {
   "cell_type": "markdown",
   "metadata": {
    "colab_type": "text",
    "id": "GlKILJEngGYZ"
   },
   "source": [
    "### Model-2"
   ]
  },
  {
   "cell_type": "markdown",
   "metadata": {
    "colab_type": "text",
    "id": "mtkEPBN5gGYb"
   },
   "source": [
    "Use the same model as above but for 'input_seq_total_text_data' give only some words in the sentance not all the words. Filter the words as below. "
   ]
  },
  {
   "cell_type": "markdown",
   "metadata": {
    "colab_type": "text",
    "id": "pLw8TgnVgGYc"
   },
   "source": [
    "<pre>\n",
    "1. Train the TF-IDF on the Train data <br>\n",
    "2. Get the idf value for each word we have in the train data. <br>\n",
    "3. Remove the low idf value and high idf value words from our data. Do some analysis on the Idf values and based on those values choose the low and high threshold value. Because very frequent words and very very rare words don't give much information. (you can plot a box plots and take only the idf scores within IQR range and corresponding words)<br>\n",
    "4. Train the LSTM after removing the Low and High idf value words. (In model-1 Train on total data but in Model-2 train on data after removing some words based on IDF values)\n",
    "</pre>"
   ]
  },
  {
   "cell_type": "markdown",
   "metadata": {
    "colab_type": "text",
    "id": "FXsK7pgqgGYe"
   },
   "source": [
    "### Model-3"
   ]
  },
  {
   "cell_type": "markdown",
   "metadata": {
    "colab_type": "text",
    "id": "hJfrckwAgGYf"
   },
   "source": [
    "<img src='https://i.imgur.com/fkQ8nGo.png'>\n",
    "ref: https://i.imgur.com/fkQ8nGo.png"
   ]
  },
  {
   "cell_type": "markdown",
   "metadata": {
    "colab_type": "text",
    "id": "uq4x2g68gGYh"
   },
   "source": [
    "\n",
    "- __input_seq_total_text_data__: <br>\n",
    "<pre>\n",
    "    . Use text column('essay'), and use the Embedding layer to get word vectors. <br>\n",
    "    . Use given predefined glove word vectors, don't train any word vectors. <br>\n",
    "    . Use LSTM that is given above, get the LSTM output and Flatten that output. <br>\n",
    "    . You are free to preprocess the input text as you needed. <br>\n",
    "</pre>\n",
    "- __Other_than_text_data__:<br>\n",
    "<pre>\n",
    "    . Convert all your Categorical values to onehot coded and then concatenate all these onehot vectors <br>\n",
    "    . Neumerical values and use <a href='https://keras.io/getting-started/sequential-model-guide/#sequence-classification-with-1d-convolutions'>CNN1D</a> as shown in above figure. <br>\n",
    "    . You are free to choose all CNN parameters like kernel sizes, stride.<br>\n",
    "    \n",
    "</pre>"
   ]
  },
  {
   "cell_type": "code",
   "execution_count": 0,
   "metadata": {
    "colab": {},
    "colab_type": "code",
    "id": "uMdV7VgEgGYj"
   },
   "outputs": [],
   "source": [
    "import pandas as pd"
   ]
  },
  {
   "cell_type": "code",
   "execution_count": 3,
   "metadata": {
    "colab": {
     "base_uri": "https://localhost:8080/",
     "height": 122
    },
    "colab_type": "code",
    "id": "2i7SkhHRsdO-",
    "outputId": "161677a3-c78f-4b1d-8a81-8dec1f6d3855"
   },
   "outputs": [
    {
     "name": "stdout",
     "output_type": "stream",
     "text": [
      "Go to this URL in a browser: https://accounts.google.com/o/oauth2/auth?client_id=947318989803-6bn6qk8qdgf4n4g3pfee6491hc0brc4i.apps.googleusercontent.com&redirect_uri=urn%3aietf%3awg%3aoauth%3a2.0%3aoob&response_type=code&scope=email%20https%3a%2f%2fwww.googleapis.com%2fauth%2fdocs.test%20https%3a%2f%2fwww.googleapis.com%2fauth%2fdrive%20https%3a%2f%2fwww.googleapis.com%2fauth%2fdrive.photos.readonly%20https%3a%2f%2fwww.googleapis.com%2fauth%2fpeopleapi.readonly\n",
      "\n",
      "Enter your authorization code:\n",
      "··········\n",
      "Mounted at /content/drive\n"
     ]
    }
   ],
   "source": [
    "from google.colab import drive\n",
    "drive.mount('/content/drive')"
   ]
  },
  {
   "cell_type": "code",
   "execution_count": 0,
   "metadata": {
    "colab": {},
    "colab_type": "code",
    "id": "UyNbWrTosvFh"
   },
   "outputs": [],
   "source": [
    "path='/content/drive/My Drive/Copy_of_train_data.csv'\n",
    "project_data = pd.read_csv(path)"
   ]
  },
  {
   "cell_type": "code",
   "execution_count": 0,
   "metadata": {
    "colab": {},
    "colab_type": "code",
    "id": "yvtVSgMmt0UZ"
   },
   "outputs": [],
   "source": [
    "path='/content/drive/My Drive/Copy_of_resources.csv'\n",
    "resource_data = pd.read_csv(path)"
   ]
  },
  {
   "cell_type": "code",
   "execution_count": 0,
   "metadata": {
    "colab": {},
    "colab_type": "code",
    "id": "c3DIIPTjr6Ji"
   },
   "outputs": [],
   "source": [
    "price_data = resource_data.groupby('id').agg({'price':'sum', 'quantity':'sum'}).reset_index()\n",
    "project_data = pd.merge(project_data, price_data, on='id', how='left')"
   ]
  },
  {
   "cell_type": "code",
   "execution_count": 0,
   "metadata": {
    "colab": {},
    "colab_type": "code",
    "id": "LXsmfckasqSQ"
   },
   "outputs": [],
   "source": [
    "def num_there(s):\n",
    "    return any(i.isdigit() for i in str(s))"
   ]
  },
  {
   "cell_type": "code",
   "execution_count": 0,
   "metadata": {
    "colab": {},
    "colab_type": "code",
    "id": "_2vrErH3sr7c"
   },
   "outputs": [],
   "source": [
    "isnum=[]\n",
    "for i in range(0,project_data.shape[0]):\n",
    "    isnum.append(int(num_there(project_data['project_resource_summary'][i])))"
   ]
  },
  {
   "cell_type": "code",
   "execution_count": 0,
   "metadata": {
    "colab": {},
    "colab_type": "code",
    "id": "BuCyoCVauC1D"
   },
   "outputs": [],
   "source": [
    "project_data['isnum']=isnum"
   ]
  },
  {
   "cell_type": "markdown",
   "metadata": {
    "colab_type": "text",
    "id": "GgpjHpovgGaG"
   },
   "source": [
    "## Preprocessing the data"
   ]
  },
  {
   "cell_type": "code",
   "execution_count": 13,
   "metadata": {
    "colab": {
     "base_uri": "https://localhost:8080/",
     "height": 102
    },
    "colab_type": "code",
    "id": "_HXbdJw1gGaI",
    "outputId": "2b4cc91b-a34e-4f5e-c907-5370ee059706"
   },
   "outputs": [
    {
     "data": {
      "text/plain": [
       "grades_prek_2    44225\n",
       "grades_3_5       37137\n",
       "grades_6_8       16923\n",
       "grades_9_12      10963\n",
       "Name: project_grade_category, dtype: int64"
      ]
     },
     "execution_count": 13,
     "metadata": {
      "tags": []
     },
     "output_type": "execute_result"
    }
   ],
   "source": [
    "# https://stackoverflow.com/questions/36383821/pandas-dataframe-apply-function-to-column-strings-based-on-other-column-value\n",
    "project_data['project_grade_category'] = project_data['project_grade_category'].str.replace(' ','_')\n",
    "project_data['project_grade_category'] = project_data['project_grade_category'].str.replace('-','_')\n",
    "project_data['project_grade_category'] = project_data['project_grade_category'].str.lower()\n",
    "project_data['project_grade_category'].value_counts()"
   ]
  },
  {
   "cell_type": "code",
   "execution_count": 0,
   "metadata": {
    "colab": {},
    "colab_type": "code",
    "id": "BtP282dwgGaM"
   },
   "outputs": [],
   "source": [
    "project_data['project_subject_categories'] = project_data['project_subject_categories'].str.replace(' The ','')\n",
    "project_data['project_subject_categories'] = project_data['project_subject_categories'].str.replace(' ','')\n",
    "project_data['project_subject_categories'] = project_data['project_subject_categories'].str.replace('&','_')\n",
    "project_data['project_subject_categories'] = project_data['project_subject_categories'].str.replace(',','_')\n",
    "project_data['project_subject_categories'] = project_data['project_subject_categories'].str.lower()"
   ]
  },
  {
   "cell_type": "code",
   "execution_count": 15,
   "metadata": {
    "colab": {
     "base_uri": "https://localhost:8080/",
     "height": 119
    },
    "colab_type": "code",
    "id": "UOPqmLtcgGaR",
    "outputId": "ff38179a-0a96-43cd-c667-d4bdeb9cecc0"
   },
   "outputs": [
    {
     "data": {
      "text/plain": [
       "Mrs.       57269\n",
       "Ms.        38955\n",
       "Mr.        10648\n",
       "Teacher     2360\n",
       "Dr.           13\n",
       "Name: teacher_prefix, dtype: int64"
      ]
     },
     "execution_count": 15,
     "metadata": {
      "tags": []
     },
     "output_type": "execute_result"
    }
   ],
   "source": [
    "project_data['teacher_prefix'].value_counts()"
   ]
  },
  {
   "cell_type": "code",
   "execution_count": 16,
   "metadata": {
    "colab": {
     "base_uri": "https://localhost:8080/",
     "height": 51
    },
    "colab_type": "code",
    "id": "lVp8k0vBgGaW",
    "outputId": "107d7c8f-5fc7-4794-e214-1ff86cd23e6e"
   },
   "outputs": [
    {
     "name": "stdout",
     "output_type": "stream",
     "text": [
      "True\n",
      "number of nan values 3\n"
     ]
    }
   ],
   "source": [
    "# check if we have any nan values are there\n",
    "print(project_data['teacher_prefix'].isnull().values.any())\n",
    "print(\"number of nan values\",project_data['teacher_prefix'].isnull().values.sum())"
   ]
  },
  {
   "cell_type": "markdown",
   "metadata": {
    "colab_type": "text",
    "id": "MoWpvi-dgGaa"
   },
   "source": [
    ">number of missing values are very less in number, we can replace it with Mrs. as most of the projects are submitted by Mrs."
   ]
  },
  {
   "cell_type": "code",
   "execution_count": 0,
   "metadata": {
    "colab": {},
    "colab_type": "code",
    "id": "Dy7wbsTWgGad"
   },
   "outputs": [],
   "source": [
    "project_data['teacher_prefix']=project_data['teacher_prefix'].fillna('Mrs.')"
   ]
  },
  {
   "cell_type": "code",
   "execution_count": 18,
   "metadata": {
    "colab": {
     "base_uri": "https://localhost:8080/",
     "height": 119
    },
    "colab_type": "code",
    "id": "aqAh5EOdgGaj",
    "outputId": "13c3ed73-a20a-4ec1-f9b0-f4eebd5ac782"
   },
   "outputs": [
    {
     "data": {
      "text/plain": [
       "Mrs.       57272\n",
       "Ms.        38955\n",
       "Mr.        10648\n",
       "Teacher     2360\n",
       "Dr.           13\n",
       "Name: teacher_prefix, dtype: int64"
      ]
     },
     "execution_count": 18,
     "metadata": {
      "tags": []
     },
     "output_type": "execute_result"
    }
   ],
   "source": [
    "project_data['teacher_prefix'].value_counts()"
   ]
  },
  {
   "cell_type": "markdown",
   "metadata": {
    "colab_type": "text",
    "id": "Mat4_uy5gGap"
   },
   "source": [
    ">Remove '.' <br>\n",
    ">convert all the chars to small"
   ]
  },
  {
   "cell_type": "code",
   "execution_count": 0,
   "metadata": {
    "colab": {},
    "colab_type": "code",
    "id": "PwHKTLh-gGaq"
   },
   "outputs": [],
   "source": [
    "project_data['teacher_prefix'] = project_data['teacher_prefix'].str.replace('.','')\n",
    "project_data['teacher_prefix'] = project_data['teacher_prefix'].str.lower()"
   ]
  },
  {
   "cell_type": "code",
   "execution_count": 0,
   "metadata": {
    "colab": {},
    "colab_type": "code",
    "id": "kglYrY9agGau"
   },
   "outputs": [],
   "source": [
    "project_data['project_subject_subcategories'] = project_data['project_subject_subcategories'].str.replace(' The ','')\n",
    "project_data['project_subject_subcategories'] = project_data['project_subject_subcategories'].str.replace(' ','')\n",
    "project_data['project_subject_subcategories'] = project_data['project_subject_subcategories'].str.replace('&','_')\n",
    "project_data['project_subject_subcategories'] = project_data['project_subject_subcategories'].str.replace(',','_')\n",
    "project_data['project_subject_subcategories'] = project_data['project_subject_subcategories'].str.lower()"
   ]
  },
  {
   "cell_type": "code",
   "execution_count": 0,
   "metadata": {
    "colab": {},
    "colab_type": "code",
    "id": "mrlNSsrkgGaz"
   },
   "outputs": [],
   "source": [
    "project_data['school_state'] = project_data['school_state'].str.lower()"
   ]
  },
  {
   "cell_type": "code",
   "execution_count": 0,
   "metadata": {
    "colab": {},
    "colab_type": "code",
    "id": "Y6GunxHvgGa3"
   },
   "outputs": [],
   "source": [
    "# https://stackoverflow.com/a/47091490/4084039\n",
    "import re\n",
    "\n",
    "def decontracted(phrase):\n",
    "    # specific\n",
    "    phrase = re.sub(r\"won't\", \"will not\", phrase)\n",
    "    phrase = re.sub(r\"can\\'t\", \"can not\", phrase)\n",
    "\n",
    "    # general\n",
    "    phrase = re.sub(r\"n\\'t\", \" not\", phrase)\n",
    "    phrase = re.sub(r\"\\'re\", \" are\", phrase)\n",
    "    phrase = re.sub(r\"\\'s\", \" is\", phrase)\n",
    "    phrase = re.sub(r\"\\'d\", \" would\", phrase)\n",
    "    phrase = re.sub(r\"\\'ll\", \" will\", phrase)\n",
    "    phrase = re.sub(r\"\\'t\", \" not\", phrase)\n",
    "    phrase = re.sub(r\"\\'ve\", \" have\", phrase)\n",
    "    phrase = re.sub(r\"\\'m\", \" am\", phrase)\n",
    "    return phrase"
   ]
  },
  {
   "cell_type": "code",
   "execution_count": 0,
   "metadata": {
    "colab": {},
    "colab_type": "code",
    "id": "mhKaoOajgGa8"
   },
   "outputs": [],
   "source": [
    "# https://gist.github.com/sebleier/554280\n",
    "# we are removing the words from the stop words list: 'no', 'nor', 'not'\n",
    "stopwords= ['i', 'me', 'my', 'myself', 'we', 'our', 'ours', 'ourselves', 'you', \"you're\", \"you've\",\\\n",
    "            \"you'll\", \"you'd\", 'your', 'yours', 'yourself', 'yourselves', 'he', 'him', 'his', 'himself', \\\n",
    "            'she', \"she's\", 'her', 'hers', 'herself', 'it', \"it's\", 'its', 'itself', 'they', 'them', 'their',\\\n",
    "            'theirs', 'themselves', 'what', 'which', 'who', 'whom', 'this', 'that', \"that'll\", 'these', 'those', \\\n",
    "            'am', 'is', 'are', 'was', 'were', 'be', 'been', 'being', 'have', 'has', 'had', 'having', 'do', 'does', \\\n",
    "            'did', 'doing', 'a', 'an', 'the', 'and', 'but', 'if', 'or', 'because', 'as', 'until', 'while', 'of', \\\n",
    "            'at', 'by', 'for', 'with', 'about', 'against', 'between', 'into', 'through', 'during', 'before', 'after',\\\n",
    "            'above', 'below', 'to', 'from', 'up', 'down', 'in', 'out', 'on', 'off', 'over', 'under', 'again', 'further',\\\n",
    "            'then', 'once', 'here', 'there', 'when', 'where', 'why', 'how', 'all', 'any', 'both', 'each', 'few', 'more',\\\n",
    "            'most', 'other', 'some', 'such', 'only', 'own', 'same', 'so', 'than', 'too', 'very', \\\n",
    "            's', 't', 'can', 'will', 'just', 'don', \"don't\", 'should', \"should've\", 'now', 'd', 'll', 'm', 'o', 're', \\\n",
    "            've', 'y', 'ain', 'aren', \"aren't\", 'couldn', \"couldn't\", 'didn', \"didn't\", 'doesn', \"doesn't\", 'hadn',\\\n",
    "            \"hadn't\", 'hasn', \"hasn't\", 'haven', \"haven't\", 'isn', \"isn't\", 'ma', 'mightn', \"mightn't\", 'mustn',\\\n",
    "            \"mustn't\", 'needn', \"needn't\", 'shan', \"shan't\", 'shouldn', \"shouldn't\", 'wasn', \"wasn't\", 'weren', \"weren't\", \\\n",
    "            'won', \"won't\", 'wouldn', \"wouldn't\"]"
   ]
  },
  {
   "cell_type": "code",
   "execution_count": 0,
   "metadata": {
    "colab": {},
    "colab_type": "code",
    "id": "853kerQwgGbI"
   },
   "outputs": [],
   "source": [
    "# Combining all the above stundents \n",
    "from tqdm import tqdm\n",
    "def preprocess_text(text_data):\n",
    "    preprocessed_text = []\n",
    "    # tqdm is for printing the status bar\n",
    "    for sentance in tqdm(text_data):\n",
    "        sent = decontracted(sentance)\n",
    "        sent = sent.replace('\\\\r', ' ')\n",
    "        sent = sent.replace('\\\\n', ' ')\n",
    "        sent = sent.replace('\\\\\"', ' ')\n",
    "        sent = re.sub('[^A-Za-z0-9]+', ' ', sent)\n",
    "        # https://gist.github.com/sebleier/554280\n",
    "        sent = ' '.join(e for e in sent.split() if e.lower() not in stopwords)\n",
    "        preprocessed_text.append(sent.lower().strip())\n",
    "    return preprocessed_text"
   ]
  },
  {
   "cell_type": "code",
   "execution_count": 25,
   "metadata": {
    "colab": {
     "base_uri": "https://localhost:8080/",
     "height": 34
    },
    "colab_type": "code",
    "id": "cgx_RyAZgGbM",
    "outputId": "6ef1734c-8ac0-4289-ac0c-c75857c12c29"
   },
   "outputs": [
    {
     "name": "stderr",
     "output_type": "stream",
     "text": [
      "100%|██████████| 109248/109248 [00:02<00:00, 49234.03it/s]\n"
     ]
    }
   ],
   "source": [
    "preprocessed_titles = preprocess_text(project_data['project_title'].values)"
   ]
  },
  {
   "cell_type": "code",
   "execution_count": 0,
   "metadata": {
    "colab": {},
    "colab_type": "code",
    "id": "aI0XFklzgGbT"
   },
   "outputs": [],
   "source": [
    "# merge two column text dataframe: \n",
    "project_data[\"essay\"] = project_data[\"project_essay_1\"].map(str) +\\\n",
    "                        project_data[\"project_essay_2\"].map(str) + \\\n",
    "                        project_data[\"project_essay_3\"].map(str) + \\\n",
    "                        project_data[\"project_essay_4\"].map(str)"
   ]
  },
  {
   "cell_type": "code",
   "execution_count": 27,
   "metadata": {
    "colab": {
     "base_uri": "https://localhost:8080/",
     "height": 34
    },
    "colab_type": "code",
    "id": "SoB3X_cggGbi",
    "outputId": "9f3348c3-2f54-4807-92c4-6d1f60fe8140"
   },
   "outputs": [
    {
     "name": "stderr",
     "output_type": "stream",
     "text": [
      "100%|██████████| 109248/109248 [00:52<00:00, 2085.28it/s]\n"
     ]
    }
   ],
   "source": [
    "preprocessed_essays = preprocess_text(project_data['essay'].values)"
   ]
  },
  {
   "cell_type": "code",
   "execution_count": 0,
   "metadata": {
    "colab": {},
    "colab_type": "code",
    "id": "_6HZ48GigGb7"
   },
   "outputs": [],
   "source": [
    "project_data['essay']=preprocessed_essays"
   ]
  },
  {
   "cell_type": "code",
   "execution_count": 0,
   "metadata": {
    "colab": {},
    "colab_type": "code",
    "id": "AQjXmLnsgGcB"
   },
   "outputs": [],
   "source": [
    "project_data['project_title']=preprocessed_titles"
   ]
  },
  {
   "cell_type": "code",
   "execution_count": 30,
   "metadata": {
    "colab": {
     "base_uri": "https://localhost:8080/",
     "height": 153
    },
    "colab_type": "code",
    "id": "6_iIjf6hgGcE",
    "outputId": "652a1b67-01d1-495f-8afc-52c78fa7e5a0"
   },
   "outputs": [
    {
     "data": {
      "text/plain": [
       "Index(['Unnamed: 0', 'id', 'teacher_id', 'teacher_prefix', 'school_state',\n",
       "       'project_submitted_datetime', 'project_grade_category',\n",
       "       'project_subject_categories', 'project_subject_subcategories',\n",
       "       'project_title', 'project_essay_1', 'project_essay_2',\n",
       "       'project_essay_3', 'project_essay_4', 'project_resource_summary',\n",
       "       'teacher_number_of_previously_posted_projects', 'project_is_approved',\n",
       "       'price', 'quantity', 'isnum', 'essay'],\n",
       "      dtype='object')"
      ]
     },
     "execution_count": 30,
     "metadata": {
      "tags": []
     },
     "output_type": "execute_result"
    }
   ],
   "source": [
    "project_data.columns"
   ]
  },
  {
   "cell_type": "code",
   "execution_count": 31,
   "metadata": {
    "colab": {
     "base_uri": "https://localhost:8080/",
     "height": 34
    },
    "colab_type": "code",
    "id": "Ti1PB5R6gGcL",
    "outputId": "e6ea0ccc-9159-4ecb-f15b-64f94efec50c"
   },
   "outputs": [
    {
     "data": {
      "text/plain": [
       "(109248, 21)"
      ]
     },
     "execution_count": 31,
     "metadata": {
      "tags": []
     },
     "output_type": "execute_result"
    }
   ],
   "source": [
    "project_data.shape"
   ]
  },
  {
   "cell_type": "code",
   "execution_count": 0,
   "metadata": {
    "colab": {},
    "colab_type": "code",
    "id": "XwLpFxr4gGcP"
   },
   "outputs": [],
   "source": [
    "X=project_data[['teacher_prefix', 'school_state', 'project_grade_category',\n",
    "       'project_subject_categories', 'project_subject_subcategories', 'teacher_number_of_previously_posted_projects', 'price', 'quantity', 'isnum', 'essay']]"
   ]
  },
  {
   "cell_type": "code",
   "execution_count": 0,
   "metadata": {
    "colab": {},
    "colab_type": "code",
    "id": "bHFoTztcbSUf"
   },
   "outputs": [],
   "source": [
    "y=project_data.iloc[:,-5]"
   ]
  },
  {
   "cell_type": "code",
   "execution_count": 0,
   "metadata": {
    "colab": {},
    "colab_type": "code",
    "id": "_y9pH0AnW50e"
   },
   "outputs": [],
   "source": [
    "from numpy import asarray\n",
    "def get_glove():\n",
    "  embeddings_index = dict()\n",
    "  f = open('/content/drive/My Drive/lstmasgn/glove.6B.300d.txt')\n",
    "  for line in tqdm(f):\n",
    "    values = line.split()\n",
    "    word = values[0]\n",
    "    coefs = asarray(values[1:], dtype='float32')\n",
    "    embeddings_index[word] = coefs\n",
    "  f.close()\n",
    "  return embeddings_index"
   ]
  },
  {
   "cell_type": "code",
   "execution_count": 36,
   "metadata": {
    "colab": {
     "base_uri": "https://localhost:8080/",
     "height": 34
    },
    "colab_type": "code",
    "id": "FYcg3IKLXC7d",
    "outputId": "ccf75d0e-faae-41d5-fc39-9b2d41437ec6"
   },
   "outputs": [
    {
     "name": "stderr",
     "output_type": "stream",
     "text": [
      "400000it [00:38, 10383.59it/s]\n"
     ]
    }
   ],
   "source": [
    "embeddings_index=get_glove()"
   ]
  },
  {
   "cell_type": "code",
   "execution_count": 0,
   "metadata": {
    "colab": {},
    "colab_type": "code",
    "id": "6TL21WwEgGcg"
   },
   "outputs": [],
   "source": [
    "from sklearn.model_selection import train_test_split\n",
    "X_train,X_test,y_train, y_test=train_test_split(X, y, test_size=0.2)\n",
    "X_train,X_cv,y_train,y_cv=train_test_split(X_train, y_train, test_size=0.2)"
   ]
  },
  {
   "cell_type": "code",
   "execution_count": 42,
   "metadata": {
    "colab": {
     "base_uri": "https://localhost:8080/",
     "height": 34
    },
    "colab_type": "code",
    "id": "8r1Td2xRrDKS",
    "outputId": "fbc3f2e3-168c-467a-8e29-f9e8d26042ed"
   },
   "outputs": [
    {
     "name": "stdout",
     "output_type": "stream",
     "text": [
      "Mean : 296.5884117108613, Standard deviation : 355.66036877695643\n"
     ]
    }
   ],
   "source": [
    "from sklearn.preprocessing import StandardScaler\n",
    "import numpy as np\n",
    "price_scalar = StandardScaler()\n",
    "price_scalar.fit(X_train['price'].values.reshape(-1,1)) # finding the mean and standard deviation of this data\n",
    "print(f\"Mean : {price_scalar.mean_[0]}, Standard deviation : {np.sqrt(price_scalar.var_[0])}\")"
   ]
  },
  {
   "cell_type": "code",
   "execution_count": 0,
   "metadata": {
    "colab": {},
    "colab_type": "code",
    "id": "6a0uTERxrStn"
   },
   "outputs": [],
   "source": [
    "price_standardized_train = price_scalar.transform(X_train['price'].values.reshape(-1, 1))\n",
    "price_standardized_cv = price_scalar.transform(X_cv['price'].values.reshape(-1, 1))\n",
    "price_standardized_test = price_scalar.transform(X_test['price'].values.reshape(-1, 1))"
   ]
  },
  {
   "cell_type": "code",
   "execution_count": 44,
   "metadata": {
    "colab": {
     "base_uri": "https://localhost:8080/",
     "height": 34
    },
    "colab_type": "code",
    "id": "3csxlN6srfCq",
    "outputId": "b0f9ac7b-1e1e-4325-eede-6f29e59462ac"
   },
   "outputs": [
    {
     "name": "stdout",
     "output_type": "stream",
     "text": [
      "Mean : 11.059669899024572, Standard deviation : 27.307587855562726\n"
     ]
    }
   ],
   "source": [
    "ppp_scalar = StandardScaler()\n",
    "ppp_scalar.fit(X_train['teacher_number_of_previously_posted_projects'].values.reshape(-1,1)) # finding the mean and standard deviation of this data\n",
    "print(f\"Mean : {ppp_scalar.mean_[0]}, Standard deviation : {np.sqrt(ppp_scalar.var_[0])}\")"
   ]
  },
  {
   "cell_type": "code",
   "execution_count": 0,
   "metadata": {
    "colab": {},
    "colab_type": "code",
    "id": "rTLe3r1yr30K"
   },
   "outputs": [],
   "source": [
    "ppp_standardized_train = ppp_scalar.transform(X_train['teacher_number_of_previously_posted_projects'].values.reshape(-1, 1))\n",
    "ppp_standardized_cv = ppp_scalar.transform(X_cv['teacher_number_of_previously_posted_projects'].values.reshape(-1, 1))\n",
    "ppp_standardized_test = ppp_scalar.transform(X_test['teacher_number_of_previously_posted_projects'].values.reshape(-1, 1))"
   ]
  },
  {
   "cell_type": "code",
   "execution_count": 46,
   "metadata": {
    "colab": {
     "base_uri": "https://localhost:8080/",
     "height": 34
    },
    "colab_type": "code",
    "id": "L96SjoJ3sEd2",
    "outputId": "66709034-4e81-44e0-cfee-dc2de8d614ba"
   },
   "outputs": [
    {
     "name": "stdout",
     "output_type": "stream",
     "text": [
      "Mean : 17.016576561114448, Standard deviation : 26.74977995835986\n"
     ]
    }
   ],
   "source": [
    "qty_scalar = StandardScaler()\n",
    "qty_scalar.fit(X_train['quantity'].values.reshape(-1,1)) # finding the mean and standard deviation of this data\n",
    "print(f\"Mean : {qty_scalar.mean_[0]}, Standard deviation : {np.sqrt(qty_scalar.var_[0])}\")"
   ]
  },
  {
   "cell_type": "code",
   "execution_count": 0,
   "metadata": {
    "colab": {},
    "colab_type": "code",
    "id": "Pf4tmbnushYe"
   },
   "outputs": [],
   "source": [
    "qty_standardized_train = qty_scalar.transform(X_train['quantity'].values.reshape(-1, 1))\n",
    "qty_standardized_cv = qty_scalar.transform(X_cv['quantity'].values.reshape(-1, 1))\n",
    "qty_standardized_test = qty_scalar.transform(X_test['quantity'].values.reshape(-1, 1))"
   ]
  },
  {
   "cell_type": "code",
   "execution_count": 48,
   "metadata": {
    "colab": {
     "base_uri": "https://localhost:8080/",
     "height": 34
    },
    "colab_type": "code",
    "id": "mwiFyLlRsxEk",
    "outputId": "5a6ea70e-70c5-41a7-bd3c-52e17c2823b6"
   },
   "outputs": [
    {
     "name": "stdout",
     "output_type": "stream",
     "text": [
      "Mean : 0.14438342057839182, Standard deviation : 0.3514780909821763\n"
     ]
    }
   ],
   "source": [
    "isnum_scalar = StandardScaler()\n",
    "isnum_scalar.fit(X_train['isnum'].values.reshape(-1,1)) # finding the mean and standard deviation of this data\n",
    "print(f\"Mean : {isnum_scalar.mean_[0]}, Standard deviation : {np.sqrt(isnum_scalar.var_[0])}\")"
   ]
  },
  {
   "cell_type": "code",
   "execution_count": 0,
   "metadata": {
    "colab": {},
    "colab_type": "code",
    "id": "1OqwsODptLNB"
   },
   "outputs": [],
   "source": [
    "isnum_standardized_train = isnum_scalar.transform(X_train['isnum'].values.reshape(-1, 1))\n",
    "isnum_standardized_cv = isnum_scalar.transform(X_cv['isnum'].values.reshape(-1, 1))\n",
    "isnum_standardized_test = isnum_scalar.transform(X_test['isnum'].values.reshape(-1, 1))"
   ]
  },
  {
   "cell_type": "code",
   "execution_count": 50,
   "metadata": {
    "colab": {
     "base_uri": "https://localhost:8080/",
     "height": 80
    },
    "colab_type": "code",
    "id": "q_7No6aytc9q",
    "outputId": "438917a4-2339-4e3e-c4e6-c420d189f330"
   },
   "outputs": [
    {
     "name": "stderr",
     "output_type": "stream",
     "text": [
      "Using TensorFlow backend.\n"
     ]
    },
    {
     "data": {
      "text/html": [
       "<p style=\"color: red;\">\n",
       "The default version of TensorFlow in Colab will soon switch to TensorFlow 2.x.<br>\n",
       "We recommend you <a href=\"https://www.tensorflow.org/guide/migrate\" target=\"_blank\">upgrade</a> now \n",
       "or ensure your notebook will continue to use TensorFlow 1.x via the <code>%tensorflow_version 1.x</code> magic:\n",
       "<a href=\"https://colab.research.google.com/notebooks/tensorflow_version.ipynb\" target=\"_blank\">more info</a>.</p>\n"
      ],
      "text/plain": [
       "<IPython.core.display.HTML object>"
      ]
     },
     "metadata": {
      "tags": []
     },
     "output_type": "display_data"
    }
   ],
   "source": [
    "from keras.preprocessing.text import Tokenizer\n",
    "from keras.preprocessing.sequence import pad_sequences"
   ]
  },
  {
   "cell_type": "code",
   "execution_count": 0,
   "metadata": {
    "colab": {},
    "colab_type": "code",
    "id": "muQjEcmCvhR2"
   },
   "outputs": [],
   "source": [
    "t=Tokenizer()\n",
    "t.fit_on_texts(X_train['essay'].values)\n",
    "\n",
    "X_train_encoded_docs = t.texts_to_sequences(X_train['essay'].values)\n",
    "X_cv_encoded_docs = t.texts_to_sequences(X_cv['essay'].values)\n",
    "X_test_encoded_docs = t.texts_to_sequences(X_test['essay'].values)\n",
    "\n",
    "X_train_padded_docs = pad_sequences(X_train_encoded_docs, maxlen=300, padding='post')\n",
    "X_cv_padded_docs = pad_sequences(X_cv_encoded_docs, maxlen=300, padding='post')\n",
    "X_test_padded_docs = pad_sequences(X_test_encoded_docs, maxlen=300, padding='post')"
   ]
  },
  {
   "cell_type": "code",
   "execution_count": 0,
   "metadata": {
    "colab": {},
    "colab_type": "code",
    "id": "VK2iQlmXZVox"
   },
   "outputs": [],
   "source": [
    "vocab_size = len(t.word_index) + 1\n",
    "embedding_matrix = np.zeros((vocab_size, 300))\n",
    "for word, i in t.word_index.items():\n",
    "  embedding_vector = embeddings_index.get(word)\n",
    "  if embedding_vector is not None:\n",
    "    embedding_matrix[i] = embedding_vector"
   ]
  },
  {
   "cell_type": "code",
   "execution_count": 0,
   "metadata": {
    "colab": {},
    "colab_type": "code",
    "id": "_JvDQ-Iw4v8P"
   },
   "outputs": [],
   "source": [
    "class LabelEncoderExt(object):\n",
    "    def __init__(self):\n",
    "        \"\"\"\n",
    "        It differs from LabelEncoder by handling new classes and providing a value for it [Unknown]\n",
    "        Unknown will be added in fit and transform will take care of new item. It gives unknown class id\n",
    "        \"\"\"\n",
    "        self.label_encoder = LabelEncoder()\n",
    "        # self.classes_ = self.label_encoder.classes_\n",
    "\n",
    "    def fit(self, data_list):\n",
    "        \"\"\"\n",
    "        This will fit the encoder for all the unique values and introduce unknown value\n",
    "        :param data_list: A list of string\n",
    "        :return: self\n",
    "        \"\"\"\n",
    "        self.label_encoder = self.label_encoder.fit(list(data_list) + ['Unknown'])\n",
    "        self.classes_ = self.label_encoder.classes_\n",
    "\n",
    "        return self\n",
    "\n",
    "    def transform(self, data_list):\n",
    "        \"\"\"\n",
    "        This will transform the data_list to id list where the new values get assigned to Unknown class\n",
    "        :param data_list:\n",
    "        :return:\n",
    "        \"\"\"\n",
    "        new_data_list = list(data_list)\n",
    "        for unique_item in np.unique(data_list):\n",
    "            if unique_item not in self.label_encoder.classes_:\n",
    "                new_data_list = ['Unknown' if x==unique_item else x for x in new_data_list]\n",
    "\n",
    "        return self.label_encoder.transform(new_data_list)"
   ]
  },
  {
   "cell_type": "code",
   "execution_count": 0,
   "metadata": {
    "colab": {},
    "colab_type": "code",
    "id": "APNuenV6hlHf"
   },
   "outputs": [],
   "source": [
    "from sklearn.preprocessing import LabelEncoder\n",
    "vectorizer = LabelEncoderExt()\n",
    "vectorizer.fit(X_train['teacher_prefix'].values)\n",
    "X_train_tp_le = vectorizer.transform(X_train['teacher_prefix'].values)\n",
    "X_cv_tp_le = vectorizer.transform(X_cv['teacher_prefix'].values)\n",
    "X_test_tp_le = vectorizer.transform(X_test['teacher_prefix'].values)\n",
    "\n",
    "vectorizer = LabelEncoderExt()\n",
    "vectorizer.fit(X_train['school_state'].values)\n",
    "X_train_ss_le = vectorizer.transform(X_train['school_state'].values)\n",
    "X_cv_ss_le = vectorizer.transform(X_cv['school_state'].values)\n",
    "X_test_ss_le = vectorizer.transform(X_test['school_state'].values)\n",
    "\n",
    "vectorizer = LabelEncoderExt()\n",
    "vectorizer.fit(X_train['project_grade_category'].values)\n",
    "X_train_pgc_le = vectorizer.transform(X_train['project_grade_category'].values)\n",
    "X_cv_pgc_le = vectorizer.transform(X_cv['project_grade_category'].values)\n",
    "X_test_pgc_le = vectorizer.transform(X_test['project_grade_category'].values)\n",
    "\n",
    "vectorizer = LabelEncoderExt()\n",
    "vectorizer.fit(X_train['project_subject_categories'].values)\n",
    "X_train_psc_le = vectorizer.transform(X_train['project_subject_categories'].values)\n",
    "X_cv_psc_le = vectorizer.transform(X_cv['project_subject_categories'].values)\n",
    "X_test_psc_le = vectorizer.transform(X_test['project_subject_categories'].values)\n",
    "\n",
    "vectorizer = LabelEncoderExt()\n",
    "vectorizer.fit(X_train['project_subject_subcategories'].values)\n",
    "X_train_pss_le = vectorizer.transform(X_train['project_subject_subcategories'].values)\n",
    "X_cv_pss_le = vectorizer.transform(X_cv['project_subject_subcategories'].values)\n",
    "X_test_pss_le = vectorizer.transform(X_test['project_subject_subcategories'].values)"
   ]
  },
  {
   "cell_type": "code",
   "execution_count": 0,
   "metadata": {
    "colab": {},
    "colab_type": "code",
    "id": "P01GuUlV_Tiz"
   },
   "outputs": [],
   "source": [
    "from keras.utils import to_categorical\n",
    "X_train_tp_le=to_categorical(X_train_tp_le)\n",
    "X_cv_tp_le=to_categorical(X_cv_tp_le)\n",
    "X_test_tp_le=to_categorical(X_test_tp_le)\n",
    "\n",
    "X_train_ss_le=to_categorical(X_train_ss_le)\n",
    "X_cv_ss_le=to_categorical(X_cv_ss_le)\n",
    "X_test_ss_le=to_categorical(X_test_ss_le)\n",
    "\n",
    "X_train_pgc_le=to_categorical(X_train_pgc_le)\n",
    "X_cv_pgc_le=to_categorical(X_cv_pgc_le)\n",
    "X_test_pgc_le=to_categorical(X_test_pgc_le)\n",
    "\n",
    "X_train_psc_le=to_categorical(X_train_psc_le)\n",
    "X_cv_psc_le=to_categorical(X_cv_psc_le)\n",
    "X_test_psc_le=to_categorical(X_test_psc_le)\n",
    "\n",
    "X_train_pss_le=to_categorical(X_train_pss_le)\n",
    "X_cv_pss_le=to_categorical(X_cv_pss_le)\n",
    "X_test_pss_le=to_categorical(X_test_pss_le)"
   ]
  },
  {
   "cell_type": "code",
   "execution_count": 0,
   "metadata": {
    "colab": {},
    "colab_type": "code",
    "id": "T5kYeK-j9v3P"
   },
   "outputs": [],
   "source": [
    "y_train=to_categorical(y_train)\n",
    "y_cv=to_categorical(y_cv)\n",
    "y_test=to_categorical(y_test)"
   ]
  },
  {
   "cell_type": "code",
   "execution_count": 0,
   "metadata": {
    "colab": {},
    "colab_type": "code",
    "id": "nHAFv87Ao2SU"
   },
   "outputs": [],
   "source": [
    "import tensorflow as tf\n",
    "from sklearn.metrics import roc_auc_score\n",
    "\n",
    "def auroc(y_true, y_pred):\n",
    "    return tf.py_func(roc_auc_score, (y_true, y_pred), tf.double)"
   ]
  },
  {
   "cell_type": "code",
   "execution_count": 0,
   "metadata": {
    "colab": {},
    "colab_type": "code",
    "id": "qucmJKkg6of1"
   },
   "outputs": [],
   "source": [
    "nf_train=np.hstack([ppp_standardized_train,isnum_standardized_train,price_standardized_train,qty_standardized_train])\n",
    "nf_cv=np.hstack([ppp_standardized_cv,isnum_standardized_cv,price_standardized_cv,qty_standardized_cv])\n",
    "nf_test=np.hstack([ppp_standardized_test,isnum_standardized_test,price_standardized_test,qty_standardized_test])"
   ]
  },
  {
   "cell_type": "code",
   "execution_count": 81,
   "metadata": {
    "colab": {
     "base_uri": "https://localhost:8080/",
     "height": 1000
    },
    "colab_type": "code",
    "id": "wSQg5HOwRSlG",
    "outputId": "7d994ed8-b743-4a31-b114-63268b1978ee"
   },
   "outputs": [
    {
     "name": "stderr",
     "output_type": "stream",
     "text": [
      "/usr/local/lib/python3.6/dist-packages/ipykernel_launcher.py:31: UserWarning: Update your `Dense` call to the Keras 2 API: `Dense(input_dim=4, units=64)`\n"
     ]
    },
    {
     "name": "stdout",
     "output_type": "stream",
     "text": [
      "Model: \"model_2\"\n",
      "__________________________________________________________________________________________________\n",
      "Layer (type)                    Output Shape         Param #     Connected to                     \n",
      "==================================================================================================\n",
      "total_text_data (InputLayer)    (None, 300)          0                                            \n",
      "__________________________________________________________________________________________________\n",
      "embedding_7 (Embedding)         (None, 300, 300)     14233800    total_text_data[0][0]            \n",
      "__________________________________________________________________________________________________\n",
      "input_school_state (InputLayer) (None, 52)           0                                            \n",
      "__________________________________________________________________________________________________\n",
      "project_grade_category (InputLa (None, 5)            0                                            \n",
      "__________________________________________________________________________________________________\n",
      "input_clean_categories (InputLa (None, 52)           0                                            \n",
      "__________________________________________________________________________________________________\n",
      "input_clean_subcategories (Inpu (None, 384)          0                                            \n",
      "__________________________________________________________________________________________________\n",
      "input_teacher_prefix (InputLaye (None, 6)            0                                            \n",
      "__________________________________________________________________________________________________\n",
      "cu_dnnlstm_2 (CuDNNLSTM)        (None, 300, 64)      93696       embedding_7[0][0]                \n",
      "__________________________________________________________________________________________________\n",
      "embedding_8 (Embedding)         (None, 52, 64)       3328        input_school_state[0][0]         \n",
      "__________________________________________________________________________________________________\n",
      "embedding_9 (Embedding)         (None, 5, 64)        320         project_grade_category[0][0]     \n",
      "__________________________________________________________________________________________________\n",
      "embedding_10 (Embedding)        (None, 52, 64)       3328        input_clean_categories[0][0]     \n",
      "__________________________________________________________________________________________________\n",
      "embedding_11 (Embedding)        (None, 384, 64)      24576       input_clean_subcategories[0][0]  \n",
      "__________________________________________________________________________________________________\n",
      "embedding_12 (Embedding)        (None, 6, 64)        384         input_teacher_prefix[0][0]       \n",
      "__________________________________________________________________________________________________\n",
      "input_numerical_features (Input (None, 4)            0                                            \n",
      "__________________________________________________________________________________________________\n",
      "flatten_7 (Flatten)             (None, 19200)        0           cu_dnnlstm_2[0][0]               \n",
      "__________________________________________________________________________________________________\n",
      "flatten_8 (Flatten)             (None, 3328)         0           embedding_8[0][0]                \n",
      "__________________________________________________________________________________________________\n",
      "flatten_9 (Flatten)             (None, 320)          0           embedding_9[0][0]                \n",
      "__________________________________________________________________________________________________\n",
      "flatten_10 (Flatten)            (None, 3328)         0           embedding_10[0][0]               \n",
      "__________________________________________________________________________________________________\n",
      "flatten_11 (Flatten)            (None, 24576)        0           embedding_11[0][0]               \n",
      "__________________________________________________________________________________________________\n",
      "flatten_12 (Flatten)            (None, 384)          0           embedding_12[0][0]               \n",
      "__________________________________________________________________________________________________\n",
      "dense_2 (Dense)                 (None, 64)           320         input_numerical_features[0][0]   \n",
      "__________________________________________________________________________________________________\n",
      "concatenate_2 (Concatenate)     (None, 51200)        0           flatten_7[0][0]                  \n",
      "                                                                 flatten_8[0][0]                  \n",
      "                                                                 flatten_9[0][0]                  \n",
      "                                                                 flatten_10[0][0]                 \n",
      "                                                                 flatten_11[0][0]                 \n",
      "                                                                 flatten_12[0][0]                 \n",
      "                                                                 dense_2[0][0]                    \n",
      "__________________________________________________________________________________________________\n",
      "d1 (Dense)                      (None, 64)           3276864     concatenate_2[0][0]              \n",
      "__________________________________________________________________________________________________\n",
      "batch_normalization_4 (BatchNor (None, 64)           256         d1[0][0]                         \n",
      "__________________________________________________________________________________________________\n",
      "dropout_4 (Dropout)             (None, 64)           0           batch_normalization_4[0][0]      \n",
      "__________________________________________________________________________________________________\n",
      "d2 (Dense)                      (None, 32)           2080        dropout_4[0][0]                  \n",
      "__________________________________________________________________________________________________\n",
      "batch_normalization_5 (BatchNor (None, 32)           128         d2[0][0]                         \n",
      "__________________________________________________________________________________________________\n",
      "dropout_5 (Dropout)             (None, 32)           0           batch_normalization_5[0][0]      \n",
      "__________________________________________________________________________________________________\n",
      "dn (Dense)                      (None, 16)           528         dropout_5[0][0]                  \n",
      "__________________________________________________________________________________________________\n",
      "batch_normalization_6 (BatchNor (None, 16)           64          dn[0][0]                         \n",
      "__________________________________________________________________________________________________\n",
      "dropout_6 (Dropout)             (None, 16)           0           batch_normalization_6[0][0]      \n",
      "__________________________________________________________________________________________________\n",
      "output (Dense)                  (None, 2)            34          dropout_6[0][0]                  \n",
      "==================================================================================================\n",
      "Total params: 17,639,706\n",
      "Trainable params: 3,405,682\n",
      "Non-trainable params: 14,234,024\n",
      "__________________________________________________________________________________________________\n"
     ]
    }
   ],
   "source": [
    "from keras.layers import Input, Embedding, LSTM, Dense,Flatten,Concatenate,Dropout,CuDNNLSTM,BatchNormalization,SpatialDropout1D,concatenate\n",
    "from keras.models import Model\n",
    "import keras\n",
    "from keras import regularizers\n",
    "from keras.regularizers import *\n",
    "from keras.optimizers import *\n",
    "from keras.initializers import he_normal,glorot_normal\n",
    "from tensorflow.python.keras.callbacks import TensorBoard\n",
    "\n",
    "\n",
    "\n",
    "total_text_data=Input(shape=(len(X_train_padded_docs[0]),), name='total_text_data')\n",
    "input_school_state=Input(shape=(X_train_ss_le.shape[1],), name='input_school_state')\n",
    "project_grade_category=Input(shape=(X_train_pgc_le.shape[1],), name='project_grade_category')\n",
    "input_clean_categories=Input(shape=(X_train_psc_le.shape[1],), name='input_clean_categories')\n",
    "input_clean_subcategories=Input(shape=(X_train_pss_le.shape[1],), name='input_clean_subcategories')\n",
    "input_teacher_prefix=Input(shape=(X_train_tp_le.shape[1],), name='input_teacher_prefix')\n",
    "input_numerical_features=Input(shape=(4,), name='input_numerical_features')\n",
    "\n",
    "\n",
    "emb_text_data=Embedding(vocab_size,300,weights=[embedding_matrix],input_length=len(X_train_padded_docs[0]),trainable=False)(total_text_data)\n",
    "emb_text_data=CuDNNLSTM(64,return_sequences=True)(emb_text_data)\n",
    "emb_state_data=Embedding(X_train_ss_le.shape[1],64,input_length=X_train_ss_le.shape[1],trainable=True)(input_school_state)\n",
    "emb_pgc_data=Embedding(X_train_pgc_le.shape[1],64,input_length=X_train_pgc_le.shape[1],trainable=True)(project_grade_category)\n",
    "emb_clean_categories_data=Embedding(X_train_psc_le.shape[1],64,input_length=X_train_psc_le.shape[1],trainable=True)(input_clean_categories)\n",
    "emb_clean_subcategories_data=Embedding(X_train_pss_le.shape[1],64,input_length=X_train_pss_le.shape[1],trainable=True)(input_clean_subcategories)\n",
    "emb_teacher_prefix_data=Embedding(X_train_tp_le.shape[1],64,input_length=X_train_tp_le.shape[1],trainable=True)(input_teacher_prefix)\n",
    "\n",
    "\n",
    "dense_for_rem_input=Dense(input_dim=4,output_dim=64)(input_numerical_features)\n",
    "\n",
    "flatten=Flatten()(emb_text_data)\n",
    "flatten_1=Flatten()(emb_state_data)\n",
    "flatten_2=Flatten()(emb_pgc_data)\n",
    "flatten_3=Flatten()(emb_clean_categories_data)\n",
    "flatten_4=Flatten()(emb_clean_subcategories_data)\n",
    "flatten_5=Flatten()(emb_teacher_prefix_data)\n",
    "\n",
    "\n",
    "concat=concatenate([flatten,flatten_1,flatten_2,flatten_3,flatten_4,flatten_5,dense_for_rem_input])\n",
    "\n",
    "dense_layer1_after_concat=Dense(64,activation='relu',name='d1')(concat)\n",
    "bn=BatchNormalization()(dense_layer1_after_concat)\n",
    "dropout=Dropout(0.5)(bn)\n",
    "dense_layer2_after_concat=Dense(32,activation='relu',name='d2')(dropout)\n",
    "bn1=BatchNormalization()(dense_layer2_after_concat)\n",
    "dropout1=Dropout(0.5)(bn1)\n",
    "dense_layern_after_concat=Dense(16,activation='relu',name='dn')(dropout1)\n",
    "bn2=BatchNormalization()(dense_layern_after_concat)\n",
    "dropout2=Dropout(0.5)(bn2)\n",
    "\n",
    "output_layer_to_classify_with_soft_max=Dense(2,activation='softmax',name='output')(dropout2)\n",
    "\n",
    "model_1=Model(inputs=[total_text_data,input_school_state,project_grade_category,input_clean_categories,input_clean_subcategories,input_teacher_prefix,input_numerical_features],outputs=output_layer_to_classify_with_soft_max)\n",
    "\n",
    "model_1.compile(loss='binary_crossentropy',optimizer='adam',metrics=['accuracy',auroc])\n",
    "\n",
    "model_1.summary()\n"
   ]
  },
  {
   "cell_type": "code",
   "execution_count": 82,
   "metadata": {
    "colab": {
     "base_uri": "https://localhost:8080/",
     "height": 1000
    },
    "colab_type": "code",
    "id": "hxAwadoxVb51",
    "outputId": "ca316c35-ee9f-4a39-dbb1-41c81485b29b"
   },
   "outputs": [
    {
     "name": "stdout",
     "output_type": "stream",
     "text": [
      "Wait for 8 seconds...\n",
      "TensorBoard link:\n",
      "http://ef9fefe3.ngrok.io\n",
      "Train on 69918 samples, validate on 17480 samples\n",
      "Epoch 1/20\n",
      "69918/69918 [==============================] - 14s 197us/step - loss: 0.8028 - acc: 0.6428 - auroc: 0.5295 - val_loss: 0.6247 - val_acc: 0.8364 - val_auroc: 0.4908\n",
      "\n",
      "Epoch 00001: val_auroc improved from -inf to 0.49076, saving model to weights_copy.best1.hdf5\n",
      "Epoch 2/20\n",
      "69918/69918 [==============================] - 13s 184us/step - loss: 0.6027 - acc: 0.7811 - auroc: 0.5463 - val_loss: 0.5106 - val_acc: 0.8420 - val_auroc: 0.5368\n",
      "\n",
      "Epoch 00002: val_auroc improved from 0.49076 to 0.53684, saving model to weights_copy.best1.hdf5\n",
      "Epoch 3/20\n",
      "69918/69918 [==============================] - 13s 185us/step - loss: 0.5179 - acc: 0.8298 - auroc: 0.5574 - val_loss: 0.4808 - val_acc: 0.8417 - val_auroc: 0.6582\n",
      "\n",
      "Epoch 00003: val_auroc improved from 0.53684 to 0.65818, saving model to weights_copy.best1.hdf5\n",
      "Epoch 4/20\n",
      "69918/69918 [==============================] - 13s 185us/step - loss: 0.4646 - acc: 0.8385 - auroc: 0.5975 - val_loss: 0.4300 - val_acc: 0.8441 - val_auroc: 0.7036\n",
      "\n",
      "Epoch 00004: val_auroc improved from 0.65818 to 0.70357, saving model to weights_copy.best1.hdf5\n",
      "Epoch 5/20\n",
      "69918/69918 [==============================] - 13s 184us/step - loss: 0.4387 - acc: 0.8427 - auroc: 0.6263 - val_loss: 0.4131 - val_acc: 0.8441 - val_auroc: 0.7137\n",
      "\n",
      "Epoch 00005: val_auroc improved from 0.70357 to 0.71374, saving model to weights_copy.best1.hdf5\n",
      "Epoch 6/20\n",
      "69918/69918 [==============================] - 13s 185us/step - loss: 0.4267 - acc: 0.8449 - auroc: 0.6467 - val_loss: 0.4248 - val_acc: 0.8439 - val_auroc: 0.7115\n",
      "\n",
      "Epoch 00006: val_auroc did not improve from 0.71374\n",
      "Epoch 7/20\n",
      "69918/69918 [==============================] - 13s 184us/step - loss: 0.4185 - acc: 0.8439 - auroc: 0.6655 - val_loss: 0.4290 - val_acc: 0.8440 - val_auroc: 0.7256\n",
      "\n",
      "Epoch 00007: val_auroc improved from 0.71374 to 0.72558, saving model to weights_copy.best1.hdf5\n",
      "Epoch 8/20\n",
      "69918/69918 [==============================] - 13s 185us/step - loss: 0.4114 - acc: 0.8463 - auroc: 0.6822 - val_loss: 0.4702 - val_acc: 0.8440 - val_auroc: 0.7168\n",
      "\n",
      "Epoch 00008: val_auroc did not improve from 0.72558\n",
      "Epoch 9/20\n",
      "69918/69918 [==============================] - 13s 185us/step - loss: 0.4075 - acc: 0.8475 - auroc: 0.6895 - val_loss: 0.4051 - val_acc: 0.8438 - val_auroc: 0.7438\n",
      "\n",
      "Epoch 00009: val_auroc improved from 0.72558 to 0.74376, saving model to weights_copy.best1.hdf5\n",
      "Epoch 10/20\n",
      "69918/69918 [==============================] - 13s 186us/step - loss: 0.4006 - acc: 0.8474 - auroc: 0.7089 - val_loss: 0.4550 - val_acc: 0.8439 - val_auroc: 0.7260\n",
      "\n",
      "Epoch 00010: val_auroc did not improve from 0.74376\n",
      "Epoch 11/20\n",
      "69918/69918 [==============================] - 13s 185us/step - loss: 0.3963 - acc: 0.8480 - auroc: 0.7187 - val_loss: 1.5291 - val_acc: 0.8441 - val_auroc: 0.7407\n",
      "\n",
      "Epoch 00011: val_auroc did not improve from 0.74376\n",
      "Epoch 12/20\n",
      "69918/69918 [==============================] - 13s 185us/step - loss: 0.3923 - acc: 0.8492 - auroc: 0.7272 - val_loss: 0.3900 - val_acc: 0.8470 - val_auroc: 0.7497\n",
      "\n",
      "Epoch 00012: val_auroc improved from 0.74376 to 0.74974, saving model to weights_copy.best1.hdf5\n",
      "Epoch 13/20\n",
      "69918/69918 [==============================] - 13s 185us/step - loss: 0.3849 - acc: 0.8500 - auroc: 0.7396 - val_loss: 0.6750 - val_acc: 0.8432 - val_auroc: 0.7172\n",
      "\n",
      "Epoch 00013: val_auroc did not improve from 0.74974\n",
      "Epoch 14/20\n",
      "69918/69918 [==============================] - 13s 185us/step - loss: 0.3774 - acc: 0.8515 - auroc: 0.7541 - val_loss: 0.7136 - val_acc: 0.8433 - val_auroc: 0.7240\n",
      "\n",
      "Epoch 00014: val_auroc did not improve from 0.74974\n",
      "Epoch 15/20\n",
      "69918/69918 [==============================] - 13s 185us/step - loss: 0.3715 - acc: 0.8527 - auroc: 0.7666 - val_loss: 0.4351 - val_acc: 0.8409 - val_auroc: 0.7350\n",
      "\n",
      "Epoch 00015: val_auroc did not improve from 0.74974\n",
      "Epoch 16/20\n",
      "69918/69918 [==============================] - 13s 186us/step - loss: 0.3614 - acc: 0.8565 - auroc: 0.7830 - val_loss: 0.7086 - val_acc: 0.8437 - val_auroc: 0.7135\n",
      "\n",
      "Epoch 00016: val_auroc did not improve from 0.74974\n",
      "Epoch 17/20\n",
      "69918/69918 [==============================] - 13s 186us/step - loss: 0.3539 - acc: 0.8582 - auroc: 0.7945 - val_loss: 1.9310 - val_acc: 0.8438 - val_auroc: 0.7030\n",
      "\n",
      "Epoch 00017: val_auroc did not improve from 0.74974\n",
      "Epoch 18/20\n",
      "69918/69918 [==============================] - 13s 187us/step - loss: 0.3414 - acc: 0.8622 - auroc: 0.8162 - val_loss: 1.3980 - val_acc: 0.8441 - val_auroc: 0.7210\n",
      "\n",
      "Epoch 00018: val_auroc did not improve from 0.74974\n",
      "Epoch 19/20\n",
      "69918/69918 [==============================] - 13s 186us/step - loss: 0.3296 - acc: 0.8677 - auroc: 0.8303 - val_loss: 0.4865 - val_acc: 0.8192 - val_auroc: 0.7046\n",
      "\n",
      "Epoch 00019: val_auroc did not improve from 0.74974\n",
      "Epoch 20/20\n",
      "69918/69918 [==============================] - 13s 187us/step - loss: 0.3137 - acc: 0.8729 - auroc: 0.8507 - val_loss: 0.4152 - val_acc: 0.8366 - val_auroc: 0.6995\n",
      "\n",
      "Epoch 00020: val_auroc did not improve from 0.74974\n"
     ]
    },
    {
     "data": {
      "text/plain": [
       "<keras.callbacks.History at 0x7f387926b7f0>"
      ]
     },
     "execution_count": 82,
     "metadata": {
      "tags": []
     },
     "output_type": "execute_result"
    }
   ],
   "source": [
    "from tensorboardcolab import *\n",
    "from keras.callbacks import EarlyStopping,ModelCheckpoint\n",
    "tbc=TensorBoardColab()\n",
    "filepath='weights_copy.best1.hdf5'\n",
    "checkpoint_1 = ModelCheckpoint(filepath, monitor='val_auroc', verbose=1, save_best_only=True, mode='max')\n",
    "cbl1 = [checkpoint_1,TensorBoardColabCallback(tbc)]\n",
    "model_1.fit([X_train_padded_docs,X_train_ss_le,X_train_pgc_le,X_train_psc_le,X_train_pss_le,X_train_tp_le,nf_train],y_train,epochs=20,batch_size=1000,validation_data=([X_cv_padded_docs,X_cv_ss_le,X_cv_pgc_le,X_cv_psc_le,X_cv_pss_le,X_cv_tp_le,nf_cv],y_cv),verbose=1,callbacks=cbl1,class_weight = 'balanced')"
   ]
  },
  {
   "cell_type": "code",
   "execution_count": 0,
   "metadata": {
    "colab": {},
    "colab_type": "code",
    "id": "2KeHl38BWobq"
   },
   "outputs": [],
   "source": [
    "model_1.load_weights('weights_copy.best1.hdf5')"
   ]
  },
  {
   "cell_type": "code",
   "execution_count": 0,
   "metadata": {
    "colab": {},
    "colab_type": "code",
    "id": "ZOUZWjv6zEmB"
   },
   "outputs": [],
   "source": [
    "%matplotlib notebook\n",
    "%matplotlib inline\n",
    "import matplotlib.pyplot as plt"
   ]
  },
  {
   "cell_type": "code",
   "execution_count": 0,
   "metadata": {
    "colab": {},
    "colab_type": "code",
    "id": "Fq7HB4EfuFlb"
   },
   "outputs": [],
   "source": [
    "def plt_dynamic(x, vy, ty, ax, colors=['b']):\n",
    "    ax.plot(x, vy, 'b', label=\"Validation Loss\")\n",
    "    ax.plot(x, ty, 'r', label=\"Train Loss\")\n",
    "    plt.legend()\n",
    "    plt.grid()\n",
    "    fig.canvas.draw()"
   ]
  },
  {
   "cell_type": "code",
   "execution_count": 86,
   "metadata": {
    "colab": {
     "base_uri": "https://localhost:8080/",
     "height": 279
    },
    "colab_type": "code",
    "id": "zSa3ArHIuK2s",
    "outputId": "6fc51f8e-df9d-4317-d000-7dba6cd03e6f"
   },
   "outputs": [
    {
     "data": {
      "image/png": "[encoded data removed]",
      "text/plain": [
       "<Figure size 432x288 with 1 Axes>"
      ]
     },
     "metadata": {
      "tags": []
     },
     "output_type": "display_data"
    }
   ],
   "source": [
    "vy = model_1.history.history['val_loss'][0:12]\n",
    "ty = model_1.history.history['loss'][0:12]\n",
    "fig,ax = plt.subplots(1,1)\n",
    "ax.set_xlabel('epoch') ; ax.set_ylabel('Categorical Crossentropy Loss')\n",
    "# list of epoch numbers\n",
    "x = list(range(1,12+1))\n",
    "plt_dynamic(x, vy, ty, ax)"
   ]
  },
  {
   "cell_type": "code",
   "execution_count": 0,
   "metadata": {
    "colab": {},
    "colab_type": "code",
    "id": "PXrn-kEa3wfu"
   },
   "outputs": [],
   "source": [
    "def plt_dynamic1(x, vy, ty, ax, colors=['b']):\n",
    "    ax.plot(x, vy, 'b', label=\"Validation AUC\")\n",
    "    ax.plot(x, ty, 'r', label=\"Train AUC\")\n",
    "    plt.legend()\n",
    "    plt.grid()\n",
    "    fig.canvas.draw()"
   ]
  },
  {
   "cell_type": "code",
   "execution_count": 89,
   "metadata": {
    "colab": {
     "base_uri": "https://localhost:8080/",
     "height": 279
    },
    "colab_type": "code",
    "id": "B6AePLVD0cWu",
    "outputId": "67a877aa-16fa-44c3-97f5-119cb45adb9d"
   },
   "outputs": [
    {
     "data": {
      "image/png": "[encoded data removed]",
      "text/plain": [
       "<Figure size 432x288 with 1 Axes>"
      ]
     },
     "metadata": {
      "tags": []
     },
     "output_type": "display_data"
    }
   ],
   "source": [
    "vy = model_1.history.history['val_auroc'][0:14]\n",
    "ty = model_1.history.history['auroc'][0:14]\n",
    "fig,ax = plt.subplots(1,1)\n",
    "ax.set_xlabel('epoch') ; ax.set_ylabel('auc')\n",
    "# list of epoch numbers\n",
    "x = list(range(1,14+1))\n",
    "plt_dynamic1(x, vy, ty, ax)"
   ]
  },
  {
   "cell_type": "code",
   "execution_count": 90,
   "metadata": {
    "colab": {
     "base_uri": "https://localhost:8080/",
     "height": 34
    },
    "colab_type": "code",
    "id": "frkcoD3xwmm9",
    "outputId": "4408a805-3473-4f18-8941-775d3e0e4cdc"
   },
   "outputs": [
    {
     "name": "stdout",
     "output_type": "stream",
     "text": [
      "21850/21850 [==============================] - 3s 158us/step\n"
     ]
    }
   ],
   "source": [
    "result=model_1.evaluate([X_test_padded_docs,X_test_ss_le,X_test_pgc_le,X_test_psc_le,X_test_pss_le,X_test_tp_le,nf_test],y_test,batch_size=100)"
   ]
  },
  {
   "cell_type": "code",
   "execution_count": 91,
   "metadata": {
    "colab": {
     "base_uri": "https://localhost:8080/",
     "height": 34
    },
    "colab_type": "code",
    "id": "8aXP8n3Qx_kH",
    "outputId": "90344a6d-160b-474d-dec3-4473a3637973"
   },
   "outputs": [
    {
     "data": {
      "text/plain": [
       "[0.38731387366692044, 0.854004572949093, 0.7333653125502343]"
      ]
     },
     "execution_count": 91,
     "metadata": {
      "tags": []
     },
     "output_type": "execute_result"
    }
   ],
   "source": [
    "result"
   ]
  },
  {
   "cell_type": "code",
   "execution_count": 92,
   "metadata": {
    "colab": {
     "base_uri": "https://localhost:8080/",
     "height": 34
    },
    "colab_type": "code",
    "id": "DJkEfPIjyCYY",
    "outputId": "ab17faca-577e-40a4-c9c9-7e5d54ebeb31"
   },
   "outputs": [
    {
     "data": {
      "text/plain": [
       "['loss', 'acc', 'auroc']"
      ]
     },
     "execution_count": 92,
     "metadata": {
      "tags": []
     },
     "output_type": "execute_result"
    }
   ],
   "source": [
    "model_1.metrics_names"
   ]
  },
  {
   "cell_type": "code",
   "execution_count": 93,
   "metadata": {
    "colab": {
     "base_uri": "https://localhost:8080/",
     "height": 68
    },
    "colab_type": "code",
    "id": "r69-ckulyo5S",
    "outputId": "36d8adef-ee7a-4883-c270-86cbea42d886"
   },
   "outputs": [
    {
     "name": "stdout",
     "output_type": "stream",
     "text": [
      "test loss is 0.38731387366692044\n",
      "test acc is 0.854004572949093\n",
      "test auroc is 0.7333653125502343\n"
     ]
    }
   ],
   "source": [
    "print('test',model_1.metrics_names[0],'is',result[0])\n",
    "print('test',model_1.metrics_names[1],'is',result[1])\n",
    "print('test',model_1.metrics_names[2],'is',result[2])"
   ]
  },
  {
   "cell_type": "markdown",
   "metadata": {
    "colab_type": "text",
    "id": "UWAKCLCWvFsV"
   },
   "source": [
    "<img src='https://i.imgur.com/r6qVS3L.png'>\n",
    "ref: https://i.imgur.com/r6qVS3L.png"
   ]
  },
  {
   "cell_type": "code",
   "execution_count": 94,
   "metadata": {
    "colab": {
     "base_uri": "https://localhost:8080/",
     "height": 136
    },
    "colab_type": "code",
    "id": "FHqjCwu65MBa",
    "outputId": "729af2d0-4d0d-46e3-8d6c-4f89204700b6"
   },
   "outputs": [
    {
     "data": {
      "text/plain": [
       "TfidfVectorizer(analyzer='word', binary=False, decode_error='strict',\n",
       "                dtype=<class 'numpy.float64'>, encoding='utf-8',\n",
       "                input='content', lowercase=True, max_df=1.0, max_features=None,\n",
       "                min_df=1, ngram_range=(1, 1), norm='l2', preprocessor=None,\n",
       "                smooth_idf=True, stop_words=None, strip_accents=None,\n",
       "                sublinear_tf=False, token_pattern='(?u)\\\\b\\\\w\\\\w+\\\\b',\n",
       "                tokenizer=None, use_idf=True, vocabulary=None)"
      ]
     },
     "execution_count": 94,
     "metadata": {
      "tags": []
     },
     "output_type": "execute_result"
    }
   ],
   "source": [
    "from sklearn.feature_extraction.text import TfidfVectorizer\n",
    "tfv=TfidfVectorizer()\n",
    "tfv.fit(X_train['essay'])"
   ]
  },
  {
   "cell_type": "code",
   "execution_count": 0,
   "metadata": {
    "colab": {},
    "colab_type": "code",
    "id": "WqQjJZi069vJ"
   },
   "outputs": [],
   "source": [
    "idfv=tfv.idf_"
   ]
  },
  {
   "cell_type": "code",
   "execution_count": 98,
   "metadata": {
    "colab": {
     "base_uri": "https://localhost:8080/",
     "height": 282
    },
    "colab_type": "code",
    "id": "QW_A-duZ7OjJ",
    "outputId": "3cb72747-d3e6-4669-d48a-814736397f1f"
   },
   "outputs": [
    {
     "data": {
      "text/plain": [
       "Text(0, 0.5, 'idf')"
      ]
     },
     "execution_count": 98,
     "metadata": {
      "tags": []
     },
     "output_type": "execute_result"
    },
    {
     "data": {
      "image/png": "[encoded data removed]",
      "text/plain": [
       "<Figure size 432x288 with 1 Axes>"
      ]
     },
     "metadata": {
      "tags": []
     },
     "output_type": "display_data"
    }
   ],
   "source": [
    "import seaborn as sns\n",
    "sns.boxplot(data = pd.DataFrame(idfv))\n",
    "plt.ylabel('idf')"
   ]
  },
  {
   "cell_type": "code",
   "execution_count": 99,
   "metadata": {
    "colab": {
     "base_uri": "https://localhost:8080/",
     "height": 102
    },
    "colab_type": "code",
    "id": "_yA33z3A7ahB",
    "outputId": "2ec5640d-a84a-4c43-cd43-b3edc508b3af"
   },
   "outputs": [
    {
     "name": "stdout",
     "output_type": "stream",
     "text": [
      "0 percentile value is 1.0076234872863457\n",
      "25 percentile value is 9.447042507065435\n",
      "50 percentile value is 11.056480419499536\n",
      "75 percentile value is 11.4619455276077\n",
      "100 percentile value is  11.4619455276077\n"
     ]
    }
   ],
   "source": [
    "for i in range(0,100,25):\n",
    "    var =idfv\n",
    "    var = np.sort(var,axis = None)\n",
    "    print(\"{} percentile value is {}\".format(i,var[int(len(var)*(float(i)/100))]))\n",
    "print(\"100 percentile value is \",var[-1])"
   ]
  },
  {
   "cell_type": "markdown",
   "metadata": {
    "colab_type": "text",
    "id": "zbfQdqDg86tM"
   },
   "source": [
    "Only choose words with idf between 9.447042507065435 and 11.4619455276077"
   ]
  },
  {
   "cell_type": "code",
   "execution_count": 103,
   "metadata": {
    "colab": {
     "base_uri": "https://localhost:8080/",
     "height": 34
    },
    "colab_type": "code",
    "id": "wkwCmRmZBnoL",
    "outputId": "36702e1d-8837-4416-af90-d444aa522a2a"
   },
   "outputs": [
    {
     "name": "stdout",
     "output_type": "stream",
     "text": [
      "35749\n"
     ]
    }
   ],
   "source": [
    "idfw=[]\n",
    "for i,word in enumerate(tfv.get_feature_names()):\n",
    "  if (idfv[i]>=9.447042507065435 and idfv[i]<=11.4619455276077):\n",
    "    idfw.append(word)\n",
    "print(len(idfw))"
   ]
  },
  {
   "cell_type": "code",
   "execution_count": 104,
   "metadata": {
    "colab": {
     "base_uri": "https://localhost:8080/",
     "height": 51
    },
    "colab_type": "code",
    "id": "9HKkEXJSACy4",
    "outputId": "980fd628-035b-487a-faed-b94f12cc4745"
   },
   "outputs": [
    {
     "name": "stdout",
     "output_type": "stream",
     "text": [
      "CPU times: user 1h 47min 59s, sys: 0 ns, total: 1h 47min 59s\n",
      "Wall time: 1h 48min 6s\n"
     ]
    }
   ],
   "source": [
    "%%time\n",
    "xtreidf=['' for i in range(X_train.shape[0])]\n",
    "for i in range(X_train.shape[0]):\n",
    "  for j,jw in enumerate(X_train['essay'].values[i].split()):\n",
    "    if (jw in idfw):\n",
    "      xtreidf[i]+=jw+' '     "
   ]
  },
  {
   "cell_type": "code",
   "execution_count": 105,
   "metadata": {
    "colab": {
     "base_uri": "https://localhost:8080/",
     "height": 51
    },
    "colab_type": "code",
    "id": "rgrgt7JbM6_H",
    "outputId": "94029c2e-45d5-4f48-f00e-1213dcd3b1f6"
   },
   "outputs": [
    {
     "name": "stdout",
     "output_type": "stream",
     "text": [
      "CPU times: user 26min 20s, sys: 0 ns, total: 26min 20s\n",
      "Wall time: 26min 23s\n"
     ]
    }
   ],
   "source": [
    "%%time\n",
    "xcveidf=['' for i in range(X_cv.shape[0])]\n",
    "for i in range(X_cv.shape[0]):\n",
    "  for j,jw in enumerate(X_cv['essay'].values[i].split()):\n",
    "    if (jw in idfw):      \n",
    "      xcveidf[i]+=jw+' '      "
   ]
  },
  {
   "cell_type": "code",
   "execution_count": 106,
   "metadata": {
    "colab": {
     "base_uri": "https://localhost:8080/",
     "height": 51
    },
    "colab_type": "code",
    "id": "rnSKzqaVNJAU",
    "outputId": "edd1a880-1a94-4aeb-b988-a271ff65027c"
   },
   "outputs": [
    {
     "name": "stdout",
     "output_type": "stream",
     "text": [
      "CPU times: user 33min 18s, sys: 352 ms, total: 33min 18s\n",
      "Wall time: 33min 22s\n"
     ]
    }
   ],
   "source": [
    "%%time\n",
    "xteeidf=['' for i in range(X_test.shape[0])]\n",
    "for i in range(X_test.shape[0]):\n",
    "  for j,jw in enumerate(X_test['essay'].values[i].split()):\n",
    "    if (jw in idfw):      \n",
    "      xteeidf[i]+=jw+' '"
   ]
  },
  {
   "cell_type": "code",
   "execution_count": 0,
   "metadata": {
    "colab": {},
    "colab_type": "code",
    "id": "-dBDBAboMCBE"
   },
   "outputs": [],
   "source": [
    "t1=Tokenizer()\n",
    "t1.fit_on_texts(xtreidf)\n",
    "X_train_encoded_docs = t1.texts_to_sequences(xtreidf)\n",
    "X_cv_encoded_docs = t1.texts_to_sequences(xcveidf)\n",
    "X_test_encoded_docs = t1.texts_to_sequences(xteeidf)\n",
    "\n",
    "X_train_padded_docs = pad_sequences(X_train_encoded_docs, maxlen=300, padding='post')\n",
    "X_cv_padded_docs = pad_sequences(X_cv_encoded_docs, maxlen=300, padding='post')\n",
    "X_test_padded_docs = pad_sequences(X_test_encoded_docs, maxlen=300, padding='post')"
   ]
  },
  {
   "cell_type": "code",
   "execution_count": 0,
   "metadata": {
    "colab": {},
    "colab_type": "code",
    "id": "BhKtJD_FvXmd"
   },
   "outputs": [],
   "source": [
    "vocab_size = len(t1.word_index) + 1\n",
    "embedding_matrix = np.zeros((vocab_size, 300))\n",
    "for word, i in t1.word_index.items():\n",
    "  embedding_vector = embeddings_index.get(word)\n",
    "  if embedding_vector is not None:\n",
    "    embedding_matrix[i] = embedding_vector"
   ]
  },
  {
   "cell_type": "code",
   "execution_count": 116,
   "metadata": {
    "colab": {
     "base_uri": "https://localhost:8080/",
     "height": 1000
    },
    "colab_type": "code",
    "id": "7wAdgHAh3DA5",
    "outputId": "6238decc-ee37-48d7-e921-e0ca11b3bcc3"
   },
   "outputs": [
    {
     "name": "stdout",
     "output_type": "stream",
     "text": [
      "WARNING:tensorflow:From /usr/local/lib/python3.6/dist-packages/keras/backend/tensorflow_backend.py:4479: The name tf.truncated_normal is deprecated. Please use tf.random.truncated_normal instead.\n",
      "\n",
      "Model: \"model_3\"\n",
      "__________________________________________________________________________________________________\n",
      "Layer (type)                    Output Shape         Param #     Connected to                     \n",
      "==================================================================================================\n",
      "total_text_data (InputLayer)    (None, 300)          0                                            \n",
      "__________________________________________________________________________________________________\n",
      "embedding_13 (Embedding)        (None, 300, 300)     10725000    total_text_data[0][0]            \n",
      "__________________________________________________________________________________________________\n",
      "input_school_state (InputLayer) (None, 52)           0                                            \n",
      "__________________________________________________________________________________________________\n",
      "project_grade_category (InputLa (None, 5)            0                                            \n",
      "__________________________________________________________________________________________________\n",
      "input_clean_categories (InputLa (None, 52)           0                                            \n",
      "__________________________________________________________________________________________________\n",
      "input_clean_subcategories (Inpu (None, 384)          0                                            \n",
      "__________________________________________________________________________________________________\n",
      "input_teacher_prefix (InputLaye (None, 6)            0                                            \n",
      "__________________________________________________________________________________________________\n",
      "lstm_1 (LSTM)                   (None, 300, 128)     219648      embedding_13[0][0]               \n",
      "__________________________________________________________________________________________________\n",
      "embedding_14 (Embedding)        (None, 52, 26)       1352        input_school_state[0][0]         \n",
      "__________________________________________________________________________________________________\n",
      "embedding_15 (Embedding)        (None, 5, 2)         10          project_grade_category[0][0]     \n",
      "__________________________________________________________________________________________________\n",
      "embedding_16 (Embedding)        (None, 52, 26)       1352        input_clean_categories[0][0]     \n",
      "__________________________________________________________________________________________________\n",
      "embedding_17 (Embedding)        (None, 384, 50)      19200       input_clean_subcategories[0][0]  \n",
      "__________________________________________________________________________________________________\n",
      "embedding_18 (Embedding)        (None, 6, 3)         18          input_teacher_prefix[0][0]       \n",
      "__________________________________________________________________________________________________\n",
      "input_numerical_features (Input (None, 4)            0                                            \n",
      "__________________________________________________________________________________________________\n",
      "flatten_13 (Flatten)            (None, 38400)        0           lstm_1[0][0]                     \n",
      "__________________________________________________________________________________________________\n",
      "flatten_14 (Flatten)            (None, 1352)         0           embedding_14[0][0]               \n",
      "__________________________________________________________________________________________________\n",
      "flatten_15 (Flatten)            (None, 10)           0           embedding_15[0][0]               \n",
      "__________________________________________________________________________________________________\n",
      "flatten_16 (Flatten)            (None, 1352)         0           embedding_16[0][0]               \n",
      "__________________________________________________________________________________________________\n",
      "flatten_17 (Flatten)            (None, 19200)        0           embedding_17[0][0]               \n",
      "__________________________________________________________________________________________________\n",
      "flatten_18 (Flatten)            (None, 18)           0           embedding_18[0][0]               \n",
      "__________________________________________________________________________________________________\n",
      "dense_3 (Dense)                 (None, 100)          500         input_numerical_features[0][0]   \n",
      "__________________________________________________________________________________________________\n",
      "concatenate_3 (Concatenate)     (None, 60432)        0           flatten_13[0][0]                 \n",
      "                                                                 flatten_14[0][0]                 \n",
      "                                                                 flatten_15[0][0]                 \n",
      "                                                                 flatten_16[0][0]                 \n",
      "                                                                 flatten_17[0][0]                 \n",
      "                                                                 flatten_18[0][0]                 \n",
      "                                                                 dense_3[0][0]                    \n",
      "__________________________________________________________________________________________________\n",
      "d1 (Dense)                      (None, 128)          7735424     concatenate_3[0][0]              \n",
      "__________________________________________________________________________________________________\n",
      "dropout_7 (Dropout)             (None, 128)          0           d1[0][0]                         \n",
      "__________________________________________________________________________________________________\n",
      "d2 (Dense)                      (None, 256)          33024       dropout_7[0][0]                  \n",
      "__________________________________________________________________________________________________\n",
      "dropout_8 (Dropout)             (None, 256)          0           d2[0][0]                         \n",
      "__________________________________________________________________________________________________\n",
      "dn (Dense)                      (None, 64)           16448       dropout_8[0][0]                  \n",
      "__________________________________________________________________________________________________\n",
      "batch_normalization_7 (BatchNor (None, 64)           256         dn[0][0]                         \n",
      "__________________________________________________________________________________________________\n",
      "output (Dense)                  (None, 2)            130         batch_normalization_7[0][0]      \n",
      "==================================================================================================\n",
      "Total params: 18,752,362\n",
      "Trainable params: 8,027,234\n",
      "Non-trainable params: 10,725,128\n",
      "__________________________________________________________________________________________________\n"
     ]
    }
   ],
   "source": [
    "total_text_data=Input(shape=(len(X_train_padded_docs[0]),), name='total_text_data')\n",
    "emb_text_data=Embedding(vocab_size,300,weights=[embedding_matrix],input_length=len(X_train_padded_docs[0]),trainable=False)(total_text_data)\n",
    "emb_text_data=LSTM(128,recurrent_dropout=0.5,kernel_regularizer=regularizers.l2(0.001),return_sequences=True)(emb_text_data)\n",
    "flatten=Flatten()(emb_text_data)\n",
    "\n",
    "input_school_state=Input(shape=(X_train_ss_le.shape[1],), name='input_school_state')\n",
    "emb_state_data=Embedding(X_train_ss_le.shape[1],26)(input_school_state)\n",
    "flatten_1=Flatten()(emb_state_data)\n",
    "\n",
    "project_grade_category=Input(shape=(X_train_pgc_le.shape[1],), name='project_grade_category')\n",
    "emb_pgc_data=Embedding(X_train_pgc_le.shape[1],2)(project_grade_category)\n",
    "flatten_2=Flatten()(emb_pgc_data)\n",
    "\n",
    "input_clean_categories=Input(shape=(X_train_psc_le.shape[1],), name='input_clean_categories')\n",
    "emb_clean_categories_data=Embedding(X_train_psc_le.shape[1],26)(input_clean_categories)\n",
    "flatten_3=Flatten()(emb_clean_categories_data)\n",
    "\n",
    "input_clean_subcategories=Input(shape=(X_train_pss_le.shape[1],), name='input_clean_subcategories')\n",
    "emb_clean_subcategories_data=Embedding(X_train_pss_le.shape[1],50)(input_clean_subcategories)\n",
    "flatten_4=Flatten()(emb_clean_subcategories_data)\n",
    "\n",
    "input_teacher_prefix=Input(shape=(X_train_tp_le.shape[1],), name='input_teacher_prefix')\n",
    "emb_teacher_prefix_data=Embedding(X_train_tp_le.shape[1],3)(input_teacher_prefix)\n",
    "flatten_5=Flatten()(emb_teacher_prefix_data)\n",
    "\n",
    "input_numerical_features=Input(shape=(4,), name='input_numerical_features')\n",
    "dense_for_rem_input=Dense(100,activation=\"relu\",kernel_initializer=\"he_normal\",kernel_regularizer=regularizers.l2(0.001))(input_numerical_features)\n",
    "\n",
    "concat=[]\n",
    "concat.append(flatten)\n",
    "concat.append(flatten_1)\n",
    "concat.append(flatten_2)\n",
    "concat.append(flatten_3)\n",
    "concat.append(flatten_4)\n",
    "concat.append(flatten_5)\n",
    "concat.append(dense_for_rem_input)\n",
    "concatenate=Concatenate()(concat)\n",
    "\n",
    "\n",
    "dense_layer1_after_concat=Dense(128,activation=\"relu\", kernel_initializer=\"he_normal\",kernel_regularizer=regularizers.l2(0.001),name='d1')(concatenate)\n",
    "dropout=Dropout(0.5)(dense_layer1_after_concat)\n",
    "dense_layer2_after_concat=Dense(256,activation=\"relu\", kernel_initializer=\"he_normal\",kernel_regularizer=regularizers.l2(0.001),name='d2')(dropout)\n",
    "dropout1=Dropout(0.5)(dense_layer2_after_concat)\n",
    "\n",
    "dense_layern_after_concat=Dense(64,activation=\"relu\", kernel_initializer=\"he_normal\",kernel_regularizer=regularizers.l2(0.001),name='dn')(dropout1)\n",
    "bn2=BatchNormalization()(dense_layern_after_concat)\n",
    "\n",
    "output_layer_to_classify_with_soft_max=Dense(2,activation='softmax',name='output')(bn2)\n",
    "\n",
    "model_2=Model(inputs=[total_text_data,input_school_state,project_grade_category,input_clean_categories,input_clean_subcategories,input_teacher_prefix,input_numerical_features],outputs=output_layer_to_classify_with_soft_max)\n",
    "\n",
    "model_2.compile(loss='binary_crossentropy',optimizer='adam',metrics=['accuracy',auroc])\n",
    "\n",
    "model_2.summary()"
   ]
  },
  {
   "cell_type": "code",
   "execution_count": 117,
   "metadata": {
    "colab": {
     "base_uri": "https://localhost:8080/",
     "height": 1000
    },
    "colab_type": "code",
    "id": "tPTfvvlE3YVj",
    "outputId": "e1b4be31-3244-491e-fea5-c9ac1a8d18a0"
   },
   "outputs": [
    {
     "name": "stdout",
     "output_type": "stream",
     "text": [
      "Wait for 8 seconds...\n",
      "TensorBoard link:\n",
      "https://ef9fefe3.ngrok.io\n",
      "Train on 69918 samples, validate on 17480 samples\n",
      "Epoch 1/30\n",
      "69918/69918 [==============================] - 49s 695us/step - loss: 1.5880 - acc: 0.6800 - auroc: 0.5072 - val_loss: 1.0793 - val_acc: 0.8441 - val_auroc: 0.5269\n",
      "\n",
      "Epoch 00001: val_auroc improved from -inf to 0.52685, saving model to weights_copy.best2.hdf5\n",
      "Epoch 2/30\n",
      "69918/69918 [==============================] - 47s 674us/step - loss: 0.9510 - acc: 0.8441 - auroc: 0.5639 - val_loss: 0.8371 - val_acc: 0.8441 - val_auroc: 0.6065\n",
      "\n",
      "Epoch 00002: val_auroc improved from 0.52685 to 0.60649, saving model to weights_copy.best2.hdf5\n",
      "Epoch 3/30\n",
      "69918/69918 [==============================] - 47s 679us/step - loss: 0.7678 - acc: 0.8466 - auroc: 0.6214 - val_loss: 0.7242 - val_acc: 0.8441 - val_auroc: 0.6388\n",
      "\n",
      "Epoch 00003: val_auroc improved from 0.60649 to 0.63883, saving model to weights_copy.best2.hdf5\n",
      "Epoch 4/30\n",
      "69918/69918 [==============================] - 47s 674us/step - loss: 0.6787 - acc: 0.8471 - auroc: 0.6396 - val_loss: 0.6504 - val_acc: 0.8441 - val_auroc: 0.6585\n",
      "\n",
      "Epoch 00004: val_auroc improved from 0.63883 to 0.65855, saving model to weights_copy.best2.hdf5\n",
      "Epoch 5/30\n",
      "69918/69918 [==============================] - 47s 678us/step - loss: 0.6175 - acc: 0.8479 - auroc: 0.6514 - val_loss: 0.6030 - val_acc: 0.8441 - val_auroc: 0.6676\n",
      "\n",
      "Epoch 00005: val_auroc improved from 0.65855 to 0.66760, saving model to weights_copy.best2.hdf5\n",
      "Epoch 6/30\n",
      "69918/69918 [==============================] - 49s 702us/step - loss: 0.5751 - acc: 0.8478 - auroc: 0.6608 - val_loss: 0.5690 - val_acc: 0.8441 - val_auroc: 0.6713\n",
      "\n",
      "Epoch 00006: val_auroc improved from 0.66760 to 0.67126, saving model to weights_copy.best2.hdf5\n",
      "Epoch 7/30\n",
      "69918/69918 [==============================] - 48s 681us/step - loss: 0.5432 - acc: 0.8479 - auroc: 0.6641 - val_loss: 0.5396 - val_acc: 0.8441 - val_auroc: 0.6748\n",
      "\n",
      "Epoch 00007: val_auroc improved from 0.67126 to 0.67480, saving model to weights_copy.best2.hdf5\n",
      "Epoch 8/30\n",
      "69918/69918 [==============================] - 48s 689us/step - loss: 0.5186 - acc: 0.8479 - auroc: 0.6654 - val_loss: 0.5195 - val_acc: 0.8441 - val_auroc: 0.6741\n",
      "\n",
      "Epoch 00008: val_auroc did not improve from 0.67480\n",
      "Epoch 9/30\n",
      "69918/69918 [==============================] - 48s 682us/step - loss: 0.5012 - acc: 0.8481 - auroc: 0.6661 - val_loss: 0.5029 - val_acc: 0.8441 - val_auroc: 0.6742\n",
      "\n",
      "Epoch 00009: val_auroc did not improve from 0.67480\n",
      "Epoch 10/30\n",
      "69918/69918 [==============================] - 48s 680us/step - loss: 0.4852 - acc: 0.8483 - auroc: 0.6694 - val_loss: 0.4878 - val_acc: 0.8441 - val_auroc: 0.6751\n",
      "\n",
      "Epoch 00010: val_auroc improved from 0.67480 to 0.67508, saving model to weights_copy.best2.hdf5\n",
      "Epoch 11/30\n",
      "69918/69918 [==============================] - 48s 684us/step - loss: 0.4743 - acc: 0.8481 - auroc: 0.6675 - val_loss: 0.4741 - val_acc: 0.8440 - val_auroc: 0.6755\n",
      "\n",
      "Epoch 00011: val_auroc improved from 0.67508 to 0.67552, saving model to weights_copy.best2.hdf5\n",
      "Epoch 12/30\n",
      "69918/69918 [==============================] - 47s 676us/step - loss: 0.4641 - acc: 0.8484 - auroc: 0.6674 - val_loss: 0.4688 - val_acc: 0.8440 - val_auroc: 0.6754\n",
      "\n",
      "Epoch 00012: val_auroc did not improve from 0.67552\n",
      "Epoch 13/30\n",
      "69918/69918 [==============================] - 48s 691us/step - loss: 0.4531 - acc: 0.8482 - auroc: 0.6764 - val_loss: 0.4609 - val_acc: 0.8440 - val_auroc: 0.6760\n",
      "\n",
      "Epoch 00013: val_auroc improved from 0.67552 to 0.67600, saving model to weights_copy.best2.hdf5\n",
      "Epoch 14/30\n",
      "69918/69918 [==============================] - 48s 691us/step - loss: 0.4494 - acc: 0.8482 - auroc: 0.6716 - val_loss: 0.4558 - val_acc: 0.8440 - val_auroc: 0.6713\n",
      "\n",
      "Epoch 00014: val_auroc did not improve from 0.67600\n",
      "Epoch 15/30\n",
      "69918/69918 [==============================] - 49s 694us/step - loss: 0.4435 - acc: 0.8483 - auroc: 0.6722 - val_loss: 0.4524 - val_acc: 0.8441 - val_auroc: 0.6713\n",
      "\n",
      "Epoch 00015: val_auroc did not improve from 0.67600\n",
      "Epoch 16/30\n",
      "69918/69918 [==============================] - 48s 686us/step - loss: 0.4395 - acc: 0.8480 - auroc: 0.6716 - val_loss: 0.4467 - val_acc: 0.8440 - val_auroc: 0.6720\n",
      "\n",
      "Epoch 00016: val_auroc did not improve from 0.67600\n",
      "Epoch 17/30\n",
      "69918/69918 [==============================] - 48s 684us/step - loss: 0.4337 - acc: 0.8478 - auroc: 0.6754 - val_loss: 0.4452 - val_acc: 0.8440 - val_auroc: 0.6688\n",
      "\n",
      "Epoch 00017: val_auroc did not improve from 0.67600\n",
      "Epoch 18/30\n",
      "69918/69918 [==============================] - 48s 681us/step - loss: 0.4316 - acc: 0.8482 - auroc: 0.6740 - val_loss: 0.4403 - val_acc: 0.8440 - val_auroc: 0.6759\n",
      "\n",
      "Epoch 00018: val_auroc did not improve from 0.67600\n",
      "Epoch 19/30\n",
      "69918/69918 [==============================] - 49s 697us/step - loss: 0.4296 - acc: 0.8481 - auroc: 0.6744 - val_loss: 0.4379 - val_acc: 0.8441 - val_auroc: 0.6766\n",
      "\n",
      "Epoch 00019: val_auroc improved from 0.67600 to 0.67665, saving model to weights_copy.best2.hdf5\n",
      "Epoch 20/30\n",
      "69918/69918 [==============================] - 48s 688us/step - loss: 0.4262 - acc: 0.8477 - auroc: 0.6789 - val_loss: 0.4338 - val_acc: 0.8441 - val_auroc: 0.6766\n",
      "\n",
      "Epoch 00020: val_auroc did not improve from 0.67665\n",
      "Epoch 21/30\n",
      "69918/69918 [==============================] - 48s 689us/step - loss: 0.4244 - acc: 0.8482 - auroc: 0.6779 - val_loss: 0.4316 - val_acc: 0.8441 - val_auroc: 0.6766\n",
      "\n",
      "Epoch 00021: val_auroc did not improve from 0.67665\n",
      "Epoch 22/30\n",
      "69918/69918 [==============================] - 48s 688us/step - loss: 0.4220 - acc: 0.8482 - auroc: 0.6797 - val_loss: 0.4289 - val_acc: 0.8440 - val_auroc: 0.6751\n",
      "\n",
      "Epoch 00022: val_auroc did not improve from 0.67665\n",
      "Epoch 23/30\n",
      "69918/69918 [==============================] - 49s 701us/step - loss: 0.4204 - acc: 0.8479 - auroc: 0.6808 - val_loss: 0.4292 - val_acc: 0.8441 - val_auroc: 0.6777\n",
      "\n",
      "Epoch 00023: val_auroc improved from 0.67665 to 0.67765, saving model to weights_copy.best2.hdf5\n",
      "Epoch 24/30\n",
      "69918/69918 [==============================] - 48s 688us/step - loss: 0.4185 - acc: 0.8479 - auroc: 0.6827 - val_loss: 0.4266 - val_acc: 0.8441 - val_auroc: 0.6776\n",
      "\n",
      "Epoch 00024: val_auroc did not improve from 0.67765\n",
      "Epoch 25/30\n",
      "69918/69918 [==============================] - 49s 696us/step - loss: 0.4174 - acc: 0.8484 - auroc: 0.6820 - val_loss: 0.4300 - val_acc: 0.8436 - val_auroc: 0.6752\n",
      "\n",
      "Epoch 00025: val_auroc did not improve from 0.67765\n",
      "Epoch 26/30\n",
      "69918/69918 [==============================] - 49s 707us/step - loss: 0.4170 - acc: 0.8482 - auroc: 0.6817 - val_loss: 0.4248 - val_acc: 0.8435 - val_auroc: 0.6777\n",
      "\n",
      "Epoch 00026: val_auroc improved from 0.67765 to 0.67770, saving model to weights_copy.best2.hdf5\n",
      "Epoch 27/30\n",
      "69918/69918 [==============================] - 48s 691us/step - loss: 0.4152 - acc: 0.8485 - auroc: 0.6866 - val_loss: 0.4265 - val_acc: 0.8434 - val_auroc: 0.6757\n",
      "\n",
      "Epoch 00027: val_auroc did not improve from 0.67770\n",
      "Epoch 28/30\n",
      "69918/69918 [==============================] - 49s 697us/step - loss: 0.4158 - acc: 0.8483 - auroc: 0.6843 - val_loss: 0.4259 - val_acc: 0.8439 - val_auroc: 0.6763\n",
      "\n",
      "Epoch 00028: val_auroc did not improve from 0.67770\n",
      "Epoch 29/30\n",
      "69918/69918 [==============================] - 49s 696us/step - loss: 0.4151 - acc: 0.8491 - auroc: 0.6851 - val_loss: 0.4238 - val_acc: 0.8442 - val_auroc: 0.6775\n",
      "\n",
      "Epoch 00029: val_auroc did not improve from 0.67770\n",
      "Epoch 30/30\n",
      "69918/69918 [==============================] - 49s 706us/step - loss: 0.4143 - acc: 0.8484 - auroc: 0.6856 - val_loss: 0.4251 - val_acc: 0.8441 - val_auroc: 0.6760\n",
      "\n",
      "Epoch 00030: val_auroc did not improve from 0.67770\n"
     ]
    },
    {
     "data": {
      "text/plain": [
       "<keras.callbacks.History at 0x7f38fb6f7940>"
      ]
     },
     "execution_count": 117,
     "metadata": {
      "tags": []
     },
     "output_type": "execute_result"
    }
   ],
   "source": [
    "filepath='weights_copy.best2.hdf5'\n",
    "checkpoint_2 = ModelCheckpoint(filepath, monitor='val_auroc', verbose=1, save_best_only=True, mode='max')\n",
    "tbc=TensorBoardColab()\n",
    "cbl2 = [checkpoint_2,TensorBoardColabCallback(tbc)]\n",
    "model_2.fit([X_train_padded_docs,X_train_ss_le,X_train_pgc_le,X_train_psc_le,X_train_pss_le,X_train_tp_le,nf_train],y_train,epochs=30,batch_size=1000,validation_data=([X_cv_padded_docs,X_cv_ss_le,X_cv_pgc_le,X_cv_psc_le,X_cv_pss_le,X_cv_tp_le,nf_cv],y_cv),verbose=1,callbacks=cbl2,class_weight = 'balanced')"
   ]
  },
  {
   "cell_type": "code",
   "execution_count": 0,
   "metadata": {
    "colab": {},
    "colab_type": "code",
    "id": "BKWgDivdqBFR"
   },
   "outputs": [],
   "source": [
    "model_2.load_weights('weights_copy.best2.hdf5')"
   ]
  },
  {
   "cell_type": "code",
   "execution_count": 123,
   "metadata": {
    "colab": {
     "base_uri": "https://localhost:8080/",
     "height": 279
    },
    "colab_type": "code",
    "id": "Mqx47DZ-ykPK",
    "outputId": "dc6c9476-3f80-4a7b-9ab1-e512c2346d44"
   },
   "outputs": [
    {
     "data": {
      "image/png": "[encoded data removed]",
      "text/plain": [
       "<Figure size 432x288 with 1 Axes>"
      ]
     },
     "metadata": {
      "tags": []
     },
     "output_type": "display_data"
    }
   ],
   "source": [
    "vy = model_2.history.history['val_loss'][0:26]\n",
    "ty = model_2.history.history['loss'][0:26]\n",
    "fig,ax = plt.subplots(1,1)\n",
    "ax.set_xlabel('epoch') ; ax.set_ylabel('Categorical Crossentropy Loss')\n",
    "# list of epoch numbers\n",
    "x = list(range(1,26+1))\n",
    "plt_dynamic(x, vy, ty, ax)"
   ]
  },
  {
   "cell_type": "code",
   "execution_count": 124,
   "metadata": {
    "colab": {
     "base_uri": "https://localhost:8080/",
     "height": 279
    },
    "colab_type": "code",
    "id": "BkQCS9Afy5zT",
    "outputId": "ee9587bf-e353-436e-eabf-6a1823932133"
   },
   "outputs": [
    {
     "data": {
      "image/png": "[encoded data removed]",
      "text/plain": [
       "<Figure size 432x288 with 1 Axes>"
      ]
     },
     "metadata": {
      "tags": []
     },
     "output_type": "display_data"
    }
   ],
   "source": [
    "vy = model_2.history.history['val_auroc'][0:26]\n",
    "ty = model_2.history.history['auroc'][0:26]\n",
    "fig,ax = plt.subplots(1,1)\n",
    "ax.set_xlabel('epoch') ; ax.set_ylabel('auc')\n",
    "# list of epoch numbers\n",
    "x = list(range(1,26+1))\n",
    "plt_dynamic1(x, vy, ty, ax)"
   ]
  },
  {
   "cell_type": "code",
   "execution_count": 125,
   "metadata": {
    "colab": {
     "base_uri": "https://localhost:8080/",
     "height": 34
    },
    "colab_type": "code",
    "id": "ya6-OJjXzMvt",
    "outputId": "9e0caed1-13b4-453b-a9ec-493da6bd7535"
   },
   "outputs": [
    {
     "name": "stdout",
     "output_type": "stream",
     "text": [
      "21850/21850 [==============================] - 48s 2ms/step\n"
     ]
    }
   ],
   "source": [
    "result=model_2.evaluate([X_test_padded_docs,X_test_ss_le,X_test_pgc_le,X_test_psc_le,X_test_pss_le,X_test_tp_le,nf_test],y_test,batch_size=100)"
   ]
  },
  {
   "cell_type": "code",
   "execution_count": 126,
   "metadata": {
    "colab": {
     "base_uri": "https://localhost:8080/",
     "height": 34
    },
    "colab_type": "code",
    "id": "n5TLBsLB2NrU",
    "outputId": "71ddd3a0-cb21-4d10-fe89-f962581fdbce"
   },
   "outputs": [
    {
     "data": {
      "text/plain": [
       "[0.41455129505022165, 0.8525858089089121, 0.6722327852843579]"
      ]
     },
     "execution_count": 126,
     "metadata": {
      "tags": []
     },
     "output_type": "execute_result"
    }
   ],
   "source": [
    "result"
   ]
  },
  {
   "cell_type": "code",
   "execution_count": 127,
   "metadata": {
    "colab": {
     "base_uri": "https://localhost:8080/",
     "height": 68
    },
    "colab_type": "code",
    "id": "s3WimLoL2P_k",
    "outputId": "0a44bd48-da03-4b5d-a376-e96b479adb44"
   },
   "outputs": [
    {
     "name": "stdout",
     "output_type": "stream",
     "text": [
      "test loss is 0.41455129505022165\n",
      "test acc is 0.8525858089089121\n",
      "test auroc is 0.6722327852843579\n"
     ]
    }
   ],
   "source": [
    "print('test',model_2.metrics_names[0],'is',result[0])\n",
    "print('test',model_2.metrics_names[1],'is',result[1])\n",
    "print('test',model_2.metrics_names[2],'is',result[2])"
   ]
  },
  {
   "cell_type": "markdown",
   "metadata": {
    "colab_type": "text",
    "id": "7jiM6JPEwJGI"
   },
   "source": [
    "<img src='https://i.imgur.com/V0dVtEG.png'>\n",
    "ref: https://i.imgur.com/V0dVtEG.png"
   ]
  },
  {
   "cell_type": "code",
   "execution_count": 0,
   "metadata": {
    "colab": {},
    "colab_type": "code",
    "id": "x6MTY-fM2dNG"
   },
   "outputs": [],
   "source": [
    "t=Tokenizer()\n",
    "t.fit_on_texts(X_train['essay'].values)\n",
    "\n",
    "X_train_encoded_docs = t.texts_to_sequences(X_train['essay'].values)\n",
    "X_cv_encoded_docs = t.texts_to_sequences(X_cv['essay'].values)\n",
    "X_test_encoded_docs = t.texts_to_sequences(X_test['essay'].values)\n",
    "\n",
    "X_train_padded_docs = pad_sequences(X_train_encoded_docs, maxlen=300, padding='post')\n",
    "X_cv_padded_docs = pad_sequences(X_cv_encoded_docs, maxlen=300, padding='post')\n",
    "X_test_padded_docs = pad_sequences(X_test_encoded_docs, maxlen=300, padding='post')"
   ]
  },
  {
   "cell_type": "code",
   "execution_count": 0,
   "metadata": {
    "colab": {},
    "colab_type": "code",
    "id": "NDZ6ovmzOmNF"
   },
   "outputs": [],
   "source": [
    "vocab_size = len(t.word_index) + 1\n",
    "embedding_matrix = np.zeros((vocab_size, 300))\n",
    "for word, i in t.word_index.items():\n",
    "  embedding_vector = embeddings_index.get(word)\n",
    "  if embedding_vector is not None:\n",
    "    embedding_matrix[i] = embedding_vector"
   ]
  },
  {
   "cell_type": "code",
   "execution_count": 0,
   "metadata": {
    "colab": {},
    "colab_type": "code",
    "id": "q1Zyyyan738A"
   },
   "outputs": [],
   "source": [
    "from sklearn.feature_extraction.text import CountVectorizer\n",
    "vectorizer = CountVectorizer()\n",
    "vectorizer.fit(X_train['teacher_prefix'].values)\n",
    "X_train_tp_ohe = vectorizer.transform(X_train['teacher_prefix'].values)\n",
    "X_cv_tp_ohe = vectorizer.transform(X_cv['teacher_prefix'].values)\n",
    "X_test_tp_ohe = vectorizer.transform(X_test['teacher_prefix'].values)\n",
    "\n",
    "vectorizer.fit(X_train['school_state'].values)\n",
    "X_train_ss_ohe = vectorizer.transform(X_train['school_state'].values)\n",
    "X_cv_ss_ohe = vectorizer.transform(X_cv['school_state'].values)\n",
    "X_test_ss_ohe = vectorizer.transform(X_test['school_state'].values)\n",
    "\n",
    "vectorizer.fit(X_train['project_grade_category'].values)\n",
    "X_train_pgc_ohe = vectorizer.transform(X_train['project_grade_category'].values)\n",
    "X_cv_pgc_ohe = vectorizer.transform(X_cv['project_grade_category'].values)\n",
    "X_test_pgc_ohe = vectorizer.transform(X_test['project_grade_category'].values)\n",
    "\n",
    "vectorizer.fit(X_train['project_subject_categories'].values)\n",
    "X_train_psc_ohe = vectorizer.transform(X_train['project_subject_categories'].values)\n",
    "X_cv_psc_ohe = vectorizer.transform(X_cv['project_subject_categories'].values)\n",
    "X_test_psc_ohe = vectorizer.transform(X_test['project_subject_categories'].values)\n",
    "\n",
    "vectorizer.fit(X_train['project_subject_subcategories'].values)\n",
    "X_train_pss_ohe = vectorizer.transform(X_train['project_subject_subcategories'].values)\n",
    "X_cv_pss_ohe = vectorizer.transform(X_cv['project_subject_subcategories'].values)\n",
    "X_test_pss_ohe = vectorizer.transform(X_test['project_subject_subcategories'].values)"
   ]
  },
  {
   "cell_type": "code",
   "execution_count": 0,
   "metadata": {
    "colab": {},
    "colab_type": "code",
    "id": "Bgp_AmFv_Pnt"
   },
   "outputs": [],
   "source": [
    "from scipy.sparse import hstack\n",
    "ott_data_train=hstack([X_train_tp_ohe,X_train_ss_ohe,X_train_pgc_ohe,X_train_psc_ohe,X_train_pss_ohe,nf_train])\n",
    "ott_data_cv=hstack([X_cv_tp_ohe,X_cv_ss_ohe,X_cv_pgc_ohe,X_cv_psc_ohe,X_cv_pss_ohe,nf_cv])\n",
    "ott_data_test=hstack([X_test_tp_ohe,X_test_ss_ohe,X_test_pgc_ohe,X_test_psc_ohe,X_test_pss_ohe,nf_test])"
   ]
  },
  {
   "cell_type": "code",
   "execution_count": 0,
   "metadata": {
    "colab": {},
    "colab_type": "code",
    "id": "wdGAQ-dBHxD2"
   },
   "outputs": [],
   "source": [
    "ott_data_train1=ott_data_train.todense()\n",
    "ott_data_cv1=ott_data_cv.todense()\n",
    "ott_data_test1=ott_data_test.todense()"
   ]
  },
  {
   "cell_type": "code",
   "execution_count": 0,
   "metadata": {
    "colab": {},
    "colab_type": "code",
    "id": "-YOE3pDzJeu7"
   },
   "outputs": [],
   "source": [
    "ott_data_train1=ott_data_train1[:,:,np.newaxis]\n",
    "ott_data_cv1=ott_data_cv1[:,:,np.newaxis]\n",
    "ott_data_test1=ott_data_test1[:,:,np.newaxis]"
   ]
  },
  {
   "cell_type": "code",
   "execution_count": 138,
   "metadata": {
    "colab": {
     "base_uri": "https://localhost:8080/",
     "height": 819
    },
    "colab_type": "code",
    "id": "hhAvceIbcc1n",
    "outputId": "836a65ed-e0c5-4ad8-84cf-2e06e2be93f1"
   },
   "outputs": [
    {
     "name": "stdout",
     "output_type": "stream",
     "text": [
      "WARNING:tensorflow:Large dropout rate: 0.6 (>0.5). In TensorFlow 2.x, dropout() uses dropout rate instead of keep_prob. Please ensure that this is intended.\n",
      "Model: \"model_5\"\n",
      "__________________________________________________________________________________________________\n",
      "Layer (type)                    Output Shape         Param #     Connected to                     \n",
      "==================================================================================================\n",
      "total_text_data (InputLayer)    (None, 300)          0                                            \n",
      "__________________________________________________________________________________________________\n",
      "embedding_20 (Embedding)        (None, 300, 300)     14233800    total_text_data[0][0]            \n",
      "__________________________________________________________________________________________________\n",
      "otherthan_text_data (InputLayer (None, 498, 1)       0                                            \n",
      "__________________________________________________________________________________________________\n",
      "spatial_dropout1d_2 (SpatialDro (None, 300, 300)     0           embedding_20[0][0]               \n",
      "__________________________________________________________________________________________________\n",
      "conv1d_3 (Conv1D)               (None, 496, 64)      256         otherthan_text_data[0][0]        \n",
      "__________________________________________________________________________________________________\n",
      "cu_dnnlstm_4 (CuDNNLSTM)        (None, 300, 256)     571392      spatial_dropout1d_2[0][0]        \n",
      "__________________________________________________________________________________________________\n",
      "conv1d_4 (Conv1D)               (None, 494, 64)      12352       conv1d_3[0][0]                   \n",
      "__________________________________________________________________________________________________\n",
      "flatten_21 (Flatten)            (None, 76800)        0           cu_dnnlstm_4[0][0]               \n",
      "__________________________________________________________________________________________________\n",
      "flatten_22 (Flatten)            (None, 31616)        0           conv1d_4[0][0]                   \n",
      "__________________________________________________________________________________________________\n",
      "concatenate_5 (Concatenate)     (None, 108416)       0           flatten_21[0][0]                 \n",
      "                                                                 flatten_22[0][0]                 \n",
      "__________________________________________________________________________________________________\n",
      "dense_8 (Dense)                 (None, 300)          32525100    concatenate_5[0][0]              \n",
      "__________________________________________________________________________________________________\n",
      "dropout_12 (Dropout)            (None, 300)          0           dense_8[0][0]                    \n",
      "__________________________________________________________________________________________________\n",
      "dense_9 (Dense)                 (None, 256)          77056       dropout_12[0][0]                 \n",
      "__________________________________________________________________________________________________\n",
      "dropout_13 (Dropout)            (None, 256)          0           dense_9[0][0]                    \n",
      "__________________________________________________________________________________________________\n",
      "batch_normalization_9 (BatchNor (None, 256)          1024        dropout_13[0][0]                 \n",
      "__________________________________________________________________________________________________\n",
      "dense_10 (Dense)                (None, 128)          32896       batch_normalization_9[0][0]      \n",
      "__________________________________________________________________________________________________\n",
      "dropout_14 (Dropout)            (None, 128)          0           dense_10[0][0]                   \n",
      "__________________________________________________________________________________________________\n",
      "dense_11 (Dense)                (None, 2)            258         dropout_14[0][0]                 \n",
      "==================================================================================================\n",
      "Total params: 47,454,134\n",
      "Trainable params: 33,219,822\n",
      "Non-trainable params: 14,234,312\n",
      "__________________________________________________________________________________________________\n"
     ]
    }
   ],
   "source": [
    "from keras.layers import Conv1D\n",
    "total_text_data=Input(shape=(len(X_train_padded_docs[0]),), name='total_text_data')\n",
    "emb_text_data=Embedding(vocab_size,300,weights=[embedding_matrix],input_length=len(X_train_padded_docs[0]),trainable=False)(total_text_data)\n",
    "emb_text_data = SpatialDropout1D(0.3)(emb_text_data)\n",
    "emb_text_data = CuDNNLSTM(256,return_sequences=True)(emb_text_data)\n",
    "flatten = Flatten()(emb_text_data)\n",
    "\n",
    "otherthan_text_data=Input(shape=(ott_data_train.shape[1],1), name='otherthan_text_data')\n",
    "conv1d1=Conv1D(64, 3,strides=1)(otherthan_text_data)\n",
    "conv1dn=Conv1D(64, 3,strides=1)(conv1d1)\n",
    "\n",
    "flatten_1=Flatten()(conv1dn)\n",
    "\n",
    "concat=[]\n",
    "concat.append(flatten)\n",
    "concat.append(flatten_1)\n",
    "concatenate=Concatenate()(concat)\n",
    "\n",
    "\n",
    "dense_layer1_after_concat=Dense(300,activation='relu',kernel_initializer=he_normal(),kernel_regularizer=l2(0.0001))(concatenate)\n",
    "dropout=Dropout(0.4)(dense_layer1_after_concat)\n",
    "dense_layer2_after_concat=Dense(256,activation='relu',kernel_initializer=he_normal(),kernel_regularizer=l2(0.0001))(dropout)\n",
    "dropout_1=Dropout(0.5)(dense_layer2_after_concat)\n",
    "bn=BatchNormalization()(dropout_1)\n",
    "dense_layern_after_concat=Dense(128,activation='relu',kernel_initializer=he_normal(),kernel_regularizer=l2(0.0001))(bn)\n",
    "dense_layern_after_concat=Dropout(0.6)(dense_layern_after_concat)\n",
    "output_layer_to_classify_with_soft_max=Dense(2,activation='softmax')(dense_layern_after_concat)\n",
    "\n",
    "model_3=Model(inputs=[total_text_data,otherthan_text_data],outputs=output_layer_to_classify_with_soft_max)\n",
    "\n",
    "model_3.compile(loss='binary_crossentropy',optimizer=keras.optimizers.adam(lr=0.001,decay = 1e-4),metrics=['accuracy', auroc])\n",
    "\n",
    "model_3.summary()"
   ]
  },
  {
   "cell_type": "code",
   "execution_count": 139,
   "metadata": {
    "colab": {
     "base_uri": "https://localhost:8080/",
     "height": 1000
    },
    "colab_type": "code",
    "id": "wsZj6u9PgXfT",
    "outputId": "1a7066e5-d2b2-482a-bf42-90740f1a0eee"
   },
   "outputs": [
    {
     "name": "stdout",
     "output_type": "stream",
     "text": [
      "Wait for 8 seconds...\n",
      "TensorBoard link:\n",
      "https://5a2832a8.ngrok.io\n",
      "Train on 69918 samples, validate on 17480 samples\n",
      "Epoch 1/20\n",
      "69918/69918 [==============================] - 62s 891us/step - loss: 0.7738 - acc: 0.7956 - auroc: 0.5264 - val_loss: 0.6763 - val_acc: 0.8441 - val_auroc: 0.3634\n",
      "\n",
      "Epoch 00001: val_auroc improved from -inf to 0.36337, saving model to weights_copy.best3.hdf5\n",
      "Epoch 2/20\n",
      "69918/69918 [==============================] - 62s 885us/step - loss: 0.5761 - acc: 0.8466 - auroc: 0.6192 - val_loss: 0.5962 - val_acc: 0.8441 - val_auroc: 0.7171\n",
      "\n",
      "Epoch 00002: val_auroc improved from 0.36337 to 0.71706, saving model to weights_copy.best3.hdf5\n",
      "Epoch 3/20\n",
      "69918/69918 [==============================] - 62s 892us/step - loss: 0.5115 - acc: 0.8483 - auroc: 0.7007 - val_loss: 0.5128 - val_acc: 0.8441 - val_auroc: 0.7468\n",
      "\n",
      "Epoch 00003: val_auroc improved from 0.71706 to 0.74681, saving model to weights_copy.best3.hdf5\n",
      "Epoch 4/20\n",
      "69918/69918 [==============================] - 62s 893us/step - loss: 0.4802 - acc: 0.8486 - auroc: 0.7252 - val_loss: 0.5332 - val_acc: 0.8493 - val_auroc: 0.7501\n",
      "\n",
      "Epoch 00004: val_auroc improved from 0.74681 to 0.75006, saving model to weights_copy.best3.hdf5\n",
      "Epoch 5/20\n",
      "69918/69918 [==============================] - 63s 894us/step - loss: 0.4595 - acc: 0.8497 - auroc: 0.7388 - val_loss: 0.4849 - val_acc: 0.8495 - val_auroc: 0.7558\n",
      "\n",
      "Epoch 00005: val_auroc improved from 0.75006 to 0.75585, saving model to weights_copy.best3.hdf5\n",
      "Epoch 6/20\n",
      "69918/69918 [==============================] - 62s 893us/step - loss: 0.4461 - acc: 0.8502 - auroc: 0.7433 - val_loss: 0.4770 - val_acc: 0.8537 - val_auroc: 0.7633\n",
      "\n",
      "Epoch 00006: val_auroc improved from 0.75585 to 0.76333, saving model to weights_copy.best3.hdf5\n",
      "Epoch 7/20\n",
      "69918/69918 [==============================] - 63s 895us/step - loss: 0.4370 - acc: 0.8519 - auroc: 0.7511 - val_loss: 0.4423 - val_acc: 0.8534 - val_auroc: 0.7641\n",
      "\n",
      "Epoch 00007: val_auroc improved from 0.76333 to 0.76412, saving model to weights_copy.best3.hdf5\n",
      "Epoch 8/20\n",
      "69918/69918 [==============================] - 62s 893us/step - loss: 0.4297 - acc: 0.8536 - auroc: 0.7596 - val_loss: 0.4389 - val_acc: 0.8539 - val_auroc: 0.7662\n",
      "\n",
      "Epoch 00008: val_auroc improved from 0.76412 to 0.76622, saving model to weights_copy.best3.hdf5\n",
      "Epoch 9/20\n",
      "69918/69918 [==============================] - 62s 893us/step - loss: 0.4250 - acc: 0.8544 - auroc: 0.7678 - val_loss: 0.4445 - val_acc: 0.8516 - val_auroc: 0.7642\n",
      "\n",
      "Epoch 00009: val_auroc did not improve from 0.76622\n",
      "Epoch 10/20\n",
      "69918/69918 [==============================] - 62s 892us/step - loss: 0.4234 - acc: 0.8551 - auroc: 0.7756 - val_loss: 0.4377 - val_acc: 0.8537 - val_auroc: 0.7610\n",
      "\n",
      "Epoch 00010: val_auroc did not improve from 0.76622\n",
      "Epoch 11/20\n",
      "69918/69918 [==============================] - 63s 894us/step - loss: 0.4211 - acc: 0.8574 - auroc: 0.7861 - val_loss: 0.4445 - val_acc: 0.8534 - val_auroc: 0.7640\n",
      "\n",
      "Epoch 00011: val_auroc did not improve from 0.76622\n",
      "Epoch 12/20\n",
      "69918/69918 [==============================] - 62s 893us/step - loss: 0.4192 - acc: 0.8580 - auroc: 0.7953 - val_loss: 0.4494 - val_acc: 0.8530 - val_auroc: 0.7488\n",
      "\n",
      "Epoch 00012: val_auroc did not improve from 0.76622\n",
      "Epoch 13/20\n",
      "69918/69918 [==============================] - 62s 893us/step - loss: 0.4239 - acc: 0.8623 - auroc: 0.8083 - val_loss: 0.4529 - val_acc: 0.8547 - val_auroc: 0.7578\n",
      "\n",
      "Epoch 00013: val_auroc did not improve from 0.76622\n",
      "Epoch 14/20\n",
      "69918/69918 [==============================] - 63s 895us/step - loss: 0.4226 - acc: 0.8645 - auroc: 0.8217 - val_loss: 0.4724 - val_acc: 0.8502 - val_auroc: 0.7477\n",
      "\n",
      "Epoch 00014: val_auroc did not improve from 0.76622\n",
      "Epoch 15/20\n",
      "69918/69918 [==============================] - 63s 896us/step - loss: 0.4265 - acc: 0.8711 - auroc: 0.8431 - val_loss: 0.4863 - val_acc: 0.8493 - val_auroc: 0.7414\n",
      "\n",
      "Epoch 00015: val_auroc did not improve from 0.76622\n",
      "Epoch 16/20\n",
      "69918/69918 [==============================] - 63s 894us/step - loss: 0.4285 - acc: 0.8756 - auroc: 0.8603 - val_loss: 0.5192 - val_acc: 0.8427 - val_auroc: 0.7388\n",
      "\n",
      "Epoch 00016: val_auroc did not improve from 0.76622\n",
      "Epoch 17/20\n",
      "69918/69918 [==============================] - 62s 890us/step - loss: 0.4318 - acc: 0.8837 - auroc: 0.8824 - val_loss: 0.5658 - val_acc: 0.8404 - val_auroc: 0.7310\n",
      "\n",
      "Epoch 00017: val_auroc did not improve from 0.76622\n",
      "Epoch 18/20\n",
      "69918/69918 [==============================] - 62s 892us/step - loss: 0.4246 - acc: 0.8945 - auroc: 0.9065 - val_loss: 0.6467 - val_acc: 0.8362 - val_auroc: 0.7231\n",
      "\n",
      "Epoch 00018: val_auroc did not improve from 0.76622\n",
      "Epoch 19/20\n",
      "69918/69918 [==============================] - 63s 894us/step - loss: 0.4285 - acc: 0.9048 - auroc: 0.9241 - val_loss: 0.6576 - val_acc: 0.8375 - val_auroc: 0.7126\n",
      "\n",
      "Epoch 00019: val_auroc did not improve from 0.76622\n",
      "Epoch 20/20\n",
      "69918/69918 [==============================] - 62s 892us/step - loss: 0.4249 - acc: 0.9177 - auroc: 0.9437 - val_loss: 0.7206 - val_acc: 0.8348 - val_auroc: 0.7036\n",
      "\n",
      "Epoch 00020: val_auroc did not improve from 0.76622\n"
     ]
    },
    {
     "data": {
      "text/plain": [
       "<keras.callbacks.History at 0x7f3776804780>"
      ]
     },
     "execution_count": 139,
     "metadata": {
      "tags": []
     },
     "output_type": "execute_result"
    }
   ],
   "source": [
    "filepath='weights_copy.best3.hdf5'\n",
    "checkpoint_3 = ModelCheckpoint(filepath, monitor='val_auroc', verbose=1, save_best_only=True, mode='max')\n",
    "tbc=TensorBoardColab()\n",
    "cbl3 = [checkpoint_3,TensorBoardColabCallback(tbc)]\n",
    "model_3.fit([X_train_padded_docs,ott_data_train1],y_train,epochs=20,batch_size=256,validation_data=([X_cv_padded_docs,ott_data_cv1],y_cv),verbose=1,callbacks=cbl3,class_weight = 'balanced')"
   ]
  },
  {
   "cell_type": "code",
   "execution_count": 0,
   "metadata": {
    "colab": {},
    "colab_type": "code",
    "id": "w_iugQn8krnp"
   },
   "outputs": [],
   "source": [
    "model_3.load_weights('weights_copy.best3.hdf5')"
   ]
  },
  {
   "cell_type": "code",
   "execution_count": 143,
   "metadata": {
    "colab": {
     "base_uri": "https://localhost:8080/",
     "height": 279
    },
    "colab_type": "code",
    "id": "MiSCyC0McRpB",
    "outputId": "f33c2b24-f411-43b4-e932-73ccd1acd1f5"
   },
   "outputs": [
    {
     "data": {
      "image/png": "[encoded data removed]",
      "text/plain": [
       "<Figure size 432x288 with 1 Axes>"
      ]
     },
     "metadata": {
      "tags": []
     },
     "output_type": "display_data"
    }
   ],
   "source": [
    "vy = model_3.history.history['val_loss'][0:10]\n",
    "ty = model_3.history.history['loss'][0:10]\n",
    "fig,ax = plt.subplots(1,1)\n",
    "ax.set_xlabel('epoch') ; ax.set_ylabel('Categorical Crossentropy Loss')\n",
    "# list of epoch numbers\n",
    "x = list(range(1,10+1))\n",
    "plt_dynamic(x, vy, ty, ax)"
   ]
  },
  {
   "cell_type": "code",
   "execution_count": 144,
   "metadata": {
    "colab": {
     "base_uri": "https://localhost:8080/",
     "height": 279
    },
    "colab_type": "code",
    "id": "o3nQIKd-Sbtr",
    "outputId": "e79cb460-d55e-498c-d09f-68c2b243dbbe"
   },
   "outputs": [
    {
     "data": {
      "image/png": "[encoded data removed]",
      "text/plain": [
       "<Figure size 432x288 with 1 Axes>"
      ]
     },
     "metadata": {
      "tags": []
     },
     "output_type": "display_data"
    }
   ],
   "source": [
    "vy = model_3.history.history['val_auroc'][0:10]\n",
    "ty = model_3.history.history['auroc'][0:10]\n",
    "fig,ax = plt.subplots(1,1)\n",
    "ax.set_xlabel('epoch') ; ax.set_ylabel('auc')\n",
    "# list of epoch numbers\n",
    "x = list(range(1,10+1))\n",
    "plt_dynamic1(x, vy, ty, ax)"
   ]
  },
  {
   "cell_type": "code",
   "execution_count": 145,
   "metadata": {
    "colab": {
     "base_uri": "https://localhost:8080/",
     "height": 34
    },
    "colab_type": "code",
    "id": "vdwfwr56SpeJ",
    "outputId": "e0c81a5f-1f26-422e-d780-383bcebf2fa5"
   },
   "outputs": [
    {
     "name": "stdout",
     "output_type": "stream",
     "text": [
      "21850/21850 [==============================] - 8s 345us/step\n"
     ]
    }
   ],
   "source": [
    "result=model_3.evaluate([X_test_padded_docs,ott_data_test1],y_test,batch_size=100)"
   ]
  },
  {
   "cell_type": "code",
   "execution_count": 146,
   "metadata": {
    "colab": {
     "base_uri": "https://localhost:8080/",
     "height": 34
    },
    "colab_type": "code",
    "id": "a8j9E_xWStSg",
    "outputId": "167c5302-632f-40d7-f0b9-9d604fe5d15e"
   },
   "outputs": [
    {
     "data": {
      "text/plain": [
       "[0.4347735852071295, 0.8580320362913799, 0.7550935333498481]"
      ]
     },
     "execution_count": 146,
     "metadata": {
      "tags": []
     },
     "output_type": "execute_result"
    }
   ],
   "source": [
    "result"
   ]
  },
  {
   "cell_type": "code",
   "execution_count": 147,
   "metadata": {
    "colab": {
     "base_uri": "https://localhost:8080/",
     "height": 68
    },
    "colab_type": "code",
    "id": "AdyXvUjsTAic",
    "outputId": "f9c1aae4-ad98-4c09-c199-fb55c7f51b2a"
   },
   "outputs": [
    {
     "name": "stdout",
     "output_type": "stream",
     "text": [
      "test loss is 0.4347735852071295\n",
      "test acc is 0.8580320362913799\n",
      "test auroc is 0.7550935333498481\n"
     ]
    }
   ],
   "source": [
    "print('test',model_3.metrics_names[0],'is',result[0])\n",
    "print('test',model_3.metrics_names[1],'is',result[1])\n",
    "print('test',model_3.metrics_names[2],'is',result[2])"
   ]
  },
  {
   "cell_type": "markdown",
   "metadata": {
    "colab_type": "text",
    "id": "aCF4DPYAwdL9"
   },
   "source": [
    "<img src='https://i.imgur.com/309NmTO.png'>\n",
    "ref: https://i.imgur.com/309NmTO.png"
   ]
  },
  {
   "cell_type": "markdown",
   "metadata": {
    "colab_type": "text",
    "id": "AsLlGdikw_gh"
   },
   "source": [
    "### Results"
   ]
  },
  {
   "cell_type": "code",
   "execution_count": 148,
   "metadata": {
    "colab": {
     "base_uri": "https://localhost:8080/",
     "height": 136
    },
    "colab_type": "code",
    "id": "ip-8JCcawnW-",
    "outputId": "d38b0289-d0e1-435b-d798-4e4a042dea37"
   },
   "outputs": [
    {
     "name": "stdout",
     "output_type": "stream",
     "text": [
      "+---------+-----------+--------+----------+\n",
      "|  model  | train_auc | cv_auc | test_auc |\n",
      "+---------+-----------+--------+----------+\n",
      "| model_1 |   0.7272  | 0.7497 | 0.73336  |\n",
      "| model_2 |   0.6817  | 0.6777 | 0.672233 |\n",
      "| model_3 |   0.7596  | 0.7662 |  0.7551  |\n",
      "+---------+-----------+--------+----------+\n"
     ]
    }
   ],
   "source": [
    "from prettytable import PrettyTable\n",
    "rs=PrettyTable()\n",
    "rs.field_names=['model','train_auc','cv_auc','test_auc']\n",
    "rs.add_row(['model_1','0.7272','0.7497','0.73336'])\n",
    "rs.add_row(['model_2','0.6817','0.6777','0.672233'])\n",
    "rs.add_row(['model_3','0.7596','0.7662','0.7551'])\n",
    "\n",
    "print(rs)"
   ]
  },
  {
   "cell_type": "markdown",
   "metadata": {
    "colab_type": "text",
    "id": "U9TPt5NnzL0e"
   },
   "source": [
    "### Conclusion"
   ]
  },
  {
   "cell_type": "markdown",
   "metadata": {
    "colab_type": "text",
    "id": "kcsaI4HqzSL3"
   },
   "source": [
    "We were able to produce good auc results for each of the above models. We incorporated dropouts, batch normalization and modifying dimensions in hidden layers to produce the required result."
   ]
  },
  {
   "cell_type": "code",
   "execution_count": 0,
   "metadata": {
    "colab": {},
    "colab_type": "code",
    "id": "Eny8p3wBxN2W"
   },
   "outputs": [],
   "source": []
  }
 ],
 "metadata": {
  "accelerator": "GPU",
  "colab": {
   "collapsed_sections": [],
   "name": "LSTM - Assignment.ipynb",
   "provenance": []
  },
  "kernelspec": {
   "display_name": "Python 3",
   "language": "python",
   "name": "python3"
  },
  "language_info": {
   "codemirror_mode": {
    "name": "ipython",
    "version": 3
   },
   "file_extension": ".py",
   "mimetype": "text/x-python",
   "name": "python",
   "nbconvert_exporter": "python",
   "pygments_lexer": "ipython3",
   "version": "3.6.9"
  }
 },
 "nbformat": 4,
 "nbformat_minor": 1
}
